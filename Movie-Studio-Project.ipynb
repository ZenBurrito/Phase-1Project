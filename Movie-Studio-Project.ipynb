{
 "cells": [
  {
   "cell_type": "markdown",
   "metadata": {},
   "source": [
    "![example](images/director_shot.jpeg)"
   ]
  },
  {
   "cell_type": "markdown",
   "metadata": {},
   "source": [
    "# Recommendations for Microsoft’s New Original Studio\n",
    "## - Analysis of the most profitable movies\n",
    "\n",
    "\n",
    "**Authors:** Colin Pelzer, Daniel Burdeno, Emiko Naomasa, Piotr Czolpik\n",
    "***"
   ]
  },
  {
   "cell_type": "markdown",
   "metadata": {},
   "source": [
    "## 1. Overview\n",
    "\n",
    "In this project, we analyzed box office films released in the past ten years, 2010-2021, and found a pattern in high profit movies. Our findings were transformed to actionable recommendations for the Microsoft Studio team to support the launch of a new original movie studio. Our analysis revealed which  movie genres provide a higher return, how the season affects tickets sales, and which directors have had the most overall success in the market. \n"
   ]
  },
  {
   "cell_type": "markdown",
   "metadata": {},
   "source": [
    "## 2. Business Problem\n",
    "\n",
    "Microsoft has expressed its interest in entering the film production industry and have decided to create a new movie studio to produce original movies. To support the head of Microsoft studio’s decisions on what types of films to create, we explored what types of films at the box office can produce a high rate of return and translate into actionable intel. In this analysis, we especially focused on the following business questions relating to genres, directors, and the seasonality of the movie industry.\n",
    "\n",
    "1.\tWhich genre of movies will promise a high rate of return on investment?   \n",
    "2.\tAre there any seasonal changes in box tickets sales? If so, which months of the year are the best times to release movies? \n",
    "3.  Among movie directors in the horror genre, who will be the best option to produce a movie? \n",
    "\t"
   ]
  },
  {
   "cell_type": "markdown",
   "metadata": {},
   "source": [
    "## 3. Data Understanding\n",
    "\n",
    "Datasets were scraped from IMDb.com and The-Numbers.com, data from IMDb contains data regarding movie runtime, genre, and directors. The-Numbers dataset contains information relating to worldwide gross and production budget, which allowed us to calculate profit and return on investment (ROI). The dataset also included release dates, which allowed us to calculate the importance of season. We cleaned datasets to only contain information related the last ten years, to insure our reccomendations reflect the current market. Information from both datasets were joined to compare variables against total profit and ROI in order to produce meaningful recommendations."
   ]
  },
  {
   "cell_type": "code",
   "execution_count": 1,
   "metadata": {},
   "outputs": [],
   "source": [
    "# Import standard packages\n",
    "import pandas as pd\n",
    "import numpy as np\n",
    "import matplotlib.pyplot as plt\n",
    "import seaborn as sns\n",
    "import calendar\n",
    "\n",
    "%matplotlib inline"
   ]
  },
  {
   "cell_type": "code",
   "execution_count": 2,
   "metadata": {},
   "outputs": [],
   "source": [
    "df_crew = pd.read_csv('Data/zippedData/imdb.title.crew.csv.gz')\n",
    "df_name = pd.read_csv('Data/zippedData/imdb.name.basics.csv.gz')\n",
    "df_title_basic = pd.read_csv('Data/zippedData/imdb.title.basics.csv.gz')\n",
    "df_num = pd.read_csv('Data/zippedData/tn.movie_budgets.csv.gz')"
   ]
  },
  {
   "cell_type": "code",
   "execution_count": 3,
   "metadata": {
    "scrolled": true
   },
   "outputs": [
    {
     "name": "stdout",
     "output_type": "stream",
     "text": [
      "<class 'pandas.core.frame.DataFrame'>\n",
      "RangeIndex: 146144 entries, 0 to 146143\n",
      "Data columns (total 3 columns):\n",
      " #   Column     Non-Null Count   Dtype \n",
      "---  ------     --------------   ----- \n",
      " 0   tconst     146144 non-null  object\n",
      " 1   directors  140417 non-null  object\n",
      " 2   writers    110261 non-null  object\n",
      "dtypes: object(3)\n",
      "memory usage: 3.3+ MB\n"
     ]
    }
   ],
   "source": [
    "df_crew.info()"
   ]
  },
  {
   "cell_type": "code",
   "execution_count": 4,
   "metadata": {
    "scrolled": true
   },
   "outputs": [
    {
     "name": "stdout",
     "output_type": "stream",
     "text": [
      "<class 'pandas.core.frame.DataFrame'>\n",
      "RangeIndex: 606648 entries, 0 to 606647\n",
      "Data columns (total 6 columns):\n",
      " #   Column              Non-Null Count   Dtype  \n",
      "---  ------              --------------   -----  \n",
      " 0   nconst              606648 non-null  object \n",
      " 1   primary_name        606648 non-null  object \n",
      " 2   birth_year          82736 non-null   float64\n",
      " 3   death_year          6783 non-null    float64\n",
      " 4   primary_profession  555308 non-null  object \n",
      " 5   known_for_titles    576444 non-null  object \n",
      "dtypes: float64(2), object(4)\n",
      "memory usage: 27.8+ MB\n"
     ]
    }
   ],
   "source": [
    "df_name.info()"
   ]
  },
  {
   "cell_type": "code",
   "execution_count": 5,
   "metadata": {
    "scrolled": true
   },
   "outputs": [
    {
     "name": "stdout",
     "output_type": "stream",
     "text": [
      "<class 'pandas.core.frame.DataFrame'>\n",
      "RangeIndex: 146144 entries, 0 to 146143\n",
      "Data columns (total 6 columns):\n",
      " #   Column           Non-Null Count   Dtype  \n",
      "---  ------           --------------   -----  \n",
      " 0   tconst           146144 non-null  object \n",
      " 1   primary_title    146144 non-null  object \n",
      " 2   original_title   146123 non-null  object \n",
      " 3   start_year       146144 non-null  int64  \n",
      " 4   runtime_minutes  114405 non-null  float64\n",
      " 5   genres           140736 non-null  object \n",
      "dtypes: float64(1), int64(1), object(4)\n",
      "memory usage: 6.7+ MB\n"
     ]
    }
   ],
   "source": [
    "df_title_basic.info()"
   ]
  },
  {
   "cell_type": "code",
   "execution_count": 6,
   "metadata": {
    "scrolled": true
   },
   "outputs": [
    {
     "name": "stdout",
     "output_type": "stream",
     "text": [
      "<class 'pandas.core.frame.DataFrame'>\n",
      "RangeIndex: 5782 entries, 0 to 5781\n",
      "Data columns (total 6 columns):\n",
      " #   Column             Non-Null Count  Dtype \n",
      "---  ------             --------------  ----- \n",
      " 0   id                 5782 non-null   int64 \n",
      " 1   release_date       5782 non-null   object\n",
      " 2   movie              5782 non-null   object\n",
      " 3   production_budget  5782 non-null   object\n",
      " 4   domestic_gross     5782 non-null   object\n",
      " 5   worldwide_gross    5782 non-null   object\n",
      "dtypes: int64(1), object(5)\n",
      "memory usage: 271.2+ KB\n"
     ]
    }
   ],
   "source": [
    "df_num.info()"
   ]
  },
  {
   "cell_type": "markdown",
   "metadata": {},
   "source": [
    "### Film Crew Information"
   ]
  },
  {
   "cell_type": "markdown",
   "metadata": {},
   "source": [
    "This dataset contains the unique id number for the crew involved with making the corresponding movies, we used this dataset to obtain the names of film directors."
   ]
  },
  {
   "cell_type": "code",
   "execution_count": 7,
   "metadata": {},
   "outputs": [
    {
     "data": {
      "text/html": [
       "<div>\n",
       "<style scoped>\n",
       "    .dataframe tbody tr th:only-of-type {\n",
       "        vertical-align: middle;\n",
       "    }\n",
       "\n",
       "    .dataframe tbody tr th {\n",
       "        vertical-align: top;\n",
       "    }\n",
       "\n",
       "    .dataframe thead th {\n",
       "        text-align: right;\n",
       "    }\n",
       "</style>\n",
       "<table border=\"1\" class=\"dataframe\">\n",
       "  <thead>\n",
       "    <tr style=\"text-align: right;\">\n",
       "      <th></th>\n",
       "      <th>tconst</th>\n",
       "      <th>directors</th>\n",
       "      <th>writers</th>\n",
       "    </tr>\n",
       "  </thead>\n",
       "  <tbody>\n",
       "    <tr>\n",
       "      <th>0</th>\n",
       "      <td>tt0285252</td>\n",
       "      <td>nm0899854</td>\n",
       "      <td>nm0899854</td>\n",
       "    </tr>\n",
       "    <tr>\n",
       "      <th>1</th>\n",
       "      <td>tt0438973</td>\n",
       "      <td>NaN</td>\n",
       "      <td>nm0175726,nm1802864</td>\n",
       "    </tr>\n",
       "    <tr>\n",
       "      <th>2</th>\n",
       "      <td>tt0462036</td>\n",
       "      <td>nm1940585</td>\n",
       "      <td>nm1940585</td>\n",
       "    </tr>\n",
       "    <tr>\n",
       "      <th>3</th>\n",
       "      <td>tt0835418</td>\n",
       "      <td>nm0151540</td>\n",
       "      <td>nm0310087,nm0841532</td>\n",
       "    </tr>\n",
       "    <tr>\n",
       "      <th>4</th>\n",
       "      <td>tt0878654</td>\n",
       "      <td>nm0089502,nm2291498,nm2292011</td>\n",
       "      <td>nm0284943</td>\n",
       "    </tr>\n",
       "  </tbody>\n",
       "</table>\n",
       "</div>"
      ],
      "text/plain": [
       "      tconst                      directors              writers\n",
       "0  tt0285252                      nm0899854            nm0899854\n",
       "1  tt0438973                            NaN  nm0175726,nm1802864\n",
       "2  tt0462036                      nm1940585            nm1940585\n",
       "3  tt0835418                      nm0151540  nm0310087,nm0841532\n",
       "4  tt0878654  nm0089502,nm2291498,nm2292011            nm0284943"
      ]
     },
     "execution_count": 7,
     "metadata": {},
     "output_type": "execute_result"
    }
   ],
   "source": [
    "df_crew.head()"
   ]
  },
  {
   "cell_type": "code",
   "execution_count": 8,
   "metadata": {},
   "outputs": [
    {
     "data": {
      "text/plain": [
       "nm3266654              62\n",
       "nm2682776              48\n",
       "nm5592581              48\n",
       "nm3583561              46\n",
       "nm0183659              44\n",
       "                       ..\n",
       "nm9412848               1\n",
       "nm4406142               1\n",
       "nm9421434,nm9264299     1\n",
       "nm0945902               1\n",
       "nm0497834               1\n",
       "Name: directors, Length: 98525, dtype: int64"
      ]
     },
     "execution_count": 8,
     "metadata": {},
     "output_type": "execute_result"
    }
   ],
   "source": [
    "df_crew['directors'].value_counts()"
   ]
  },
  {
   "cell_type": "markdown",
   "metadata": {},
   "source": [
    "Based on the intial look at the data, directors are seperated by a unique id name that we can cross reference with another database to pull their names, and the movies they worked on. We want to pull only movies with a single director, as they represent a majority of the data."
   ]
  },
  {
   "cell_type": "markdown",
   "metadata": {},
   "source": [
    "### Director Name Information"
   ]
  },
  {
   "cell_type": "markdown",
   "metadata": {},
   "source": [
    "Using the information in this dataset, we can extract the name of the director from their unique id associated with them. We can now tie director name to the corresponding movie title's using both the previous and the next dataset (using tconst)."
   ]
  },
  {
   "cell_type": "code",
   "execution_count": 9,
   "metadata": {},
   "outputs": [
    {
     "data": {
      "text/html": [
       "<div>\n",
       "<style scoped>\n",
       "    .dataframe tbody tr th:only-of-type {\n",
       "        vertical-align: middle;\n",
       "    }\n",
       "\n",
       "    .dataframe tbody tr th {\n",
       "        vertical-align: top;\n",
       "    }\n",
       "\n",
       "    .dataframe thead th {\n",
       "        text-align: right;\n",
       "    }\n",
       "</style>\n",
       "<table border=\"1\" class=\"dataframe\">\n",
       "  <thead>\n",
       "    <tr style=\"text-align: right;\">\n",
       "      <th></th>\n",
       "      <th>nconst</th>\n",
       "      <th>primary_name</th>\n",
       "      <th>birth_year</th>\n",
       "      <th>death_year</th>\n",
       "      <th>primary_profession</th>\n",
       "      <th>known_for_titles</th>\n",
       "    </tr>\n",
       "  </thead>\n",
       "  <tbody>\n",
       "    <tr>\n",
       "      <th>0</th>\n",
       "      <td>nm0061671</td>\n",
       "      <td>Mary Ellen Bauder</td>\n",
       "      <td>NaN</td>\n",
       "      <td>NaN</td>\n",
       "      <td>miscellaneous,production_manager,producer</td>\n",
       "      <td>tt0837562,tt2398241,tt0844471,tt0118553</td>\n",
       "    </tr>\n",
       "    <tr>\n",
       "      <th>1</th>\n",
       "      <td>nm0061865</td>\n",
       "      <td>Joseph Bauer</td>\n",
       "      <td>NaN</td>\n",
       "      <td>NaN</td>\n",
       "      <td>composer,music_department,sound_department</td>\n",
       "      <td>tt0896534,tt6791238,tt0287072,tt1682940</td>\n",
       "    </tr>\n",
       "    <tr>\n",
       "      <th>2</th>\n",
       "      <td>nm0062070</td>\n",
       "      <td>Bruce Baum</td>\n",
       "      <td>NaN</td>\n",
       "      <td>NaN</td>\n",
       "      <td>miscellaneous,actor,writer</td>\n",
       "      <td>tt1470654,tt0363631,tt0104030,tt0102898</td>\n",
       "    </tr>\n",
       "    <tr>\n",
       "      <th>3</th>\n",
       "      <td>nm0062195</td>\n",
       "      <td>Axel Baumann</td>\n",
       "      <td>NaN</td>\n",
       "      <td>NaN</td>\n",
       "      <td>camera_department,cinematographer,art_department</td>\n",
       "      <td>tt0114371,tt2004304,tt1618448,tt1224387</td>\n",
       "    </tr>\n",
       "    <tr>\n",
       "      <th>4</th>\n",
       "      <td>nm0062798</td>\n",
       "      <td>Pete Baxter</td>\n",
       "      <td>NaN</td>\n",
       "      <td>NaN</td>\n",
       "      <td>production_designer,art_department,set_decorator</td>\n",
       "      <td>tt0452644,tt0452692,tt3458030,tt2178256</td>\n",
       "    </tr>\n",
       "  </tbody>\n",
       "</table>\n",
       "</div>"
      ],
      "text/plain": [
       "      nconst       primary_name  birth_year  death_year  \\\n",
       "0  nm0061671  Mary Ellen Bauder         NaN         NaN   \n",
       "1  nm0061865       Joseph Bauer         NaN         NaN   \n",
       "2  nm0062070         Bruce Baum         NaN         NaN   \n",
       "3  nm0062195       Axel Baumann         NaN         NaN   \n",
       "4  nm0062798        Pete Baxter         NaN         NaN   \n",
       "\n",
       "                                 primary_profession  \\\n",
       "0         miscellaneous,production_manager,producer   \n",
       "1        composer,music_department,sound_department   \n",
       "2                        miscellaneous,actor,writer   \n",
       "3  camera_department,cinematographer,art_department   \n",
       "4  production_designer,art_department,set_decorator   \n",
       "\n",
       "                          known_for_titles  \n",
       "0  tt0837562,tt2398241,tt0844471,tt0118553  \n",
       "1  tt0896534,tt6791238,tt0287072,tt1682940  \n",
       "2  tt1470654,tt0363631,tt0104030,tt0102898  \n",
       "3  tt0114371,tt2004304,tt1618448,tt1224387  \n",
       "4  tt0452644,tt0452692,tt3458030,tt2178256  "
      ]
     },
     "execution_count": 9,
     "metadata": {},
     "output_type": "execute_result"
    }
   ],
   "source": [
    "df_name.head()"
   ]
  },
  {
   "cell_type": "markdown",
   "metadata": {},
   "source": [
    "### Title Basics"
   ]
  },
  {
   "cell_type": "markdown",
   "metadata": {},
   "source": [
    "This is one of the main datasets that we are going to use to create suggestions, useful information like title, genre, and runtime are all available to us within"
   ]
  },
  {
   "cell_type": "code",
   "execution_count": 10,
   "metadata": {},
   "outputs": [
    {
     "data": {
      "text/html": [
       "<div>\n",
       "<style scoped>\n",
       "    .dataframe tbody tr th:only-of-type {\n",
       "        vertical-align: middle;\n",
       "    }\n",
       "\n",
       "    .dataframe tbody tr th {\n",
       "        vertical-align: top;\n",
       "    }\n",
       "\n",
       "    .dataframe thead th {\n",
       "        text-align: right;\n",
       "    }\n",
       "</style>\n",
       "<table border=\"1\" class=\"dataframe\">\n",
       "  <thead>\n",
       "    <tr style=\"text-align: right;\">\n",
       "      <th></th>\n",
       "      <th>tconst</th>\n",
       "      <th>primary_title</th>\n",
       "      <th>original_title</th>\n",
       "      <th>start_year</th>\n",
       "      <th>runtime_minutes</th>\n",
       "      <th>genres</th>\n",
       "    </tr>\n",
       "  </thead>\n",
       "  <tbody>\n",
       "    <tr>\n",
       "      <th>0</th>\n",
       "      <td>tt0063540</td>\n",
       "      <td>Sunghursh</td>\n",
       "      <td>Sunghursh</td>\n",
       "      <td>2013</td>\n",
       "      <td>175.0</td>\n",
       "      <td>Action,Crime,Drama</td>\n",
       "    </tr>\n",
       "    <tr>\n",
       "      <th>1</th>\n",
       "      <td>tt0066787</td>\n",
       "      <td>One Day Before the Rainy Season</td>\n",
       "      <td>Ashad Ka Ek Din</td>\n",
       "      <td>2019</td>\n",
       "      <td>114.0</td>\n",
       "      <td>Biography,Drama</td>\n",
       "    </tr>\n",
       "    <tr>\n",
       "      <th>2</th>\n",
       "      <td>tt0069049</td>\n",
       "      <td>The Other Side of the Wind</td>\n",
       "      <td>The Other Side of the Wind</td>\n",
       "      <td>2018</td>\n",
       "      <td>122.0</td>\n",
       "      <td>Drama</td>\n",
       "    </tr>\n",
       "    <tr>\n",
       "      <th>3</th>\n",
       "      <td>tt0069204</td>\n",
       "      <td>Sabse Bada Sukh</td>\n",
       "      <td>Sabse Bada Sukh</td>\n",
       "      <td>2018</td>\n",
       "      <td>NaN</td>\n",
       "      <td>Comedy,Drama</td>\n",
       "    </tr>\n",
       "    <tr>\n",
       "      <th>4</th>\n",
       "      <td>tt0100275</td>\n",
       "      <td>The Wandering Soap Opera</td>\n",
       "      <td>La Telenovela Errante</td>\n",
       "      <td>2017</td>\n",
       "      <td>80.0</td>\n",
       "      <td>Comedy,Drama,Fantasy</td>\n",
       "    </tr>\n",
       "  </tbody>\n",
       "</table>\n",
       "</div>"
      ],
      "text/plain": [
       "      tconst                    primary_title              original_title  \\\n",
       "0  tt0063540                        Sunghursh                   Sunghursh   \n",
       "1  tt0066787  One Day Before the Rainy Season             Ashad Ka Ek Din   \n",
       "2  tt0069049       The Other Side of the Wind  The Other Side of the Wind   \n",
       "3  tt0069204                  Sabse Bada Sukh             Sabse Bada Sukh   \n",
       "4  tt0100275         The Wandering Soap Opera       La Telenovela Errante   \n",
       "\n",
       "   start_year  runtime_minutes                genres  \n",
       "0        2013            175.0    Action,Crime,Drama  \n",
       "1        2019            114.0       Biography,Drama  \n",
       "2        2018            122.0                 Drama  \n",
       "3        2018              NaN          Comedy,Drama  \n",
       "4        2017             80.0  Comedy,Drama,Fantasy  "
      ]
     },
     "execution_count": 10,
     "metadata": {},
     "output_type": "execute_result"
    }
   ],
   "source": [
    "df_title_basic.head()"
   ]
  },
  {
   "cell_type": "code",
   "execution_count": 11,
   "metadata": {},
   "outputs": [
    {
     "data": {
      "text/plain": [
       "2017    17504\n",
       "2016    17272\n",
       "2018    16849\n",
       "2015    16243\n",
       "2014    15589\n",
       "2013    14709\n",
       "2012    13787\n",
       "2011    12900\n",
       "2010    11849\n",
       "2019     8379\n",
       "2020      937\n",
       "2021       83\n",
       "2022       32\n",
       "2023        5\n",
       "2024        2\n",
       "2027        1\n",
       "2026        1\n",
       "2025        1\n",
       "2115        1\n",
       "Name: start_year, dtype: int64"
      ]
     },
     "execution_count": 11,
     "metadata": {},
     "output_type": "execute_result"
    }
   ],
   "source": [
    "df_title_basic['start_year'].value_counts()\n",
    "# Most of the information is from the past 10 years, however there are some funky data points so we will still hard code a limit into the data."
   ]
  },
  {
   "cell_type": "code",
   "execution_count": 12,
   "metadata": {
    "scrolled": true
   },
   "outputs": [
    {
     "data": {
      "text/plain": [
       "Documentary                 32185\n",
       "Drama                       21486\n",
       "Comedy                       9177\n",
       "Horror                       4372\n",
       "Comedy,Drama                 3519\n",
       "                            ...  \n",
       "Adventure,Music,Mystery         1\n",
       "Family,Horror,Romance           1\n",
       "Biography,Family,Fantasy        1\n",
       "Action,Animation,War            1\n",
       "Fantasy,History,War             1\n",
       "Name: genres, Length: 1085, dtype: int64"
      ]
     },
     "execution_count": 12,
     "metadata": {},
     "output_type": "execute_result"
    }
   ],
   "source": [
    "df_title_basic['genres'].value_counts()\n",
    "#Need to deal with multi-genre movies, and to trim down to the most relevant genres"
   ]
  },
  {
   "cell_type": "markdown",
   "metadata": {},
   "source": [
    " Using the 'tconst' column, we can tie in the other supplementary datasets to include in our analysis. We can start to form questions off of this dataset such as, 'How does runtime affect the rating/ROI' or 'do certain genres dominate the market more than others?'"
   ]
  },
  {
   "cell_type": "markdown",
   "metadata": {},
   "source": [
    "### The Numbers File"
   ]
  },
  {
   "cell_type": "markdown",
   "metadata": {},
   "source": [
    "Three of the most important datapoints come from this set, production budget, worldwide gross, and release date. Utlizing production budget and worldwide gross we can compute both net profit and return on investment (ROI). This dataset will be on main set that we merge others into. We will need to trim it down to only contain movies from 2010 and onwards (last 10 years)."
   ]
  },
  {
   "cell_type": "code",
   "execution_count": 13,
   "metadata": {},
   "outputs": [
    {
     "data": {
      "text/html": [
       "<div>\n",
       "<style scoped>\n",
       "    .dataframe tbody tr th:only-of-type {\n",
       "        vertical-align: middle;\n",
       "    }\n",
       "\n",
       "    .dataframe tbody tr th {\n",
       "        vertical-align: top;\n",
       "    }\n",
       "\n",
       "    .dataframe thead th {\n",
       "        text-align: right;\n",
       "    }\n",
       "</style>\n",
       "<table border=\"1\" class=\"dataframe\">\n",
       "  <thead>\n",
       "    <tr style=\"text-align: right;\">\n",
       "      <th></th>\n",
       "      <th>id</th>\n",
       "      <th>release_date</th>\n",
       "      <th>movie</th>\n",
       "      <th>production_budget</th>\n",
       "      <th>domestic_gross</th>\n",
       "      <th>worldwide_gross</th>\n",
       "    </tr>\n",
       "  </thead>\n",
       "  <tbody>\n",
       "    <tr>\n",
       "      <th>0</th>\n",
       "      <td>1</td>\n",
       "      <td>Dec 18, 2009</td>\n",
       "      <td>Avatar</td>\n",
       "      <td>$425,000,000</td>\n",
       "      <td>$760,507,625</td>\n",
       "      <td>$2,776,345,279</td>\n",
       "    </tr>\n",
       "    <tr>\n",
       "      <th>1</th>\n",
       "      <td>2</td>\n",
       "      <td>May 20, 2011</td>\n",
       "      <td>Pirates of the Caribbean: On Stranger Tides</td>\n",
       "      <td>$410,600,000</td>\n",
       "      <td>$241,063,875</td>\n",
       "      <td>$1,045,663,875</td>\n",
       "    </tr>\n",
       "    <tr>\n",
       "      <th>2</th>\n",
       "      <td>3</td>\n",
       "      <td>Jun 7, 2019</td>\n",
       "      <td>Dark Phoenix</td>\n",
       "      <td>$350,000,000</td>\n",
       "      <td>$42,762,350</td>\n",
       "      <td>$149,762,350</td>\n",
       "    </tr>\n",
       "    <tr>\n",
       "      <th>3</th>\n",
       "      <td>4</td>\n",
       "      <td>May 1, 2015</td>\n",
       "      <td>Avengers: Age of Ultron</td>\n",
       "      <td>$330,600,000</td>\n",
       "      <td>$459,005,868</td>\n",
       "      <td>$1,403,013,963</td>\n",
       "    </tr>\n",
       "    <tr>\n",
       "      <th>4</th>\n",
       "      <td>5</td>\n",
       "      <td>Dec 15, 2017</td>\n",
       "      <td>Star Wars Ep. VIII: The Last Jedi</td>\n",
       "      <td>$317,000,000</td>\n",
       "      <td>$620,181,382</td>\n",
       "      <td>$1,316,721,747</td>\n",
       "    </tr>\n",
       "  </tbody>\n",
       "</table>\n",
       "</div>"
      ],
      "text/plain": [
       "   id  release_date                                        movie  \\\n",
       "0   1  Dec 18, 2009                                       Avatar   \n",
       "1   2  May 20, 2011  Pirates of the Caribbean: On Stranger Tides   \n",
       "2   3   Jun 7, 2019                                 Dark Phoenix   \n",
       "3   4   May 1, 2015                      Avengers: Age of Ultron   \n",
       "4   5  Dec 15, 2017            Star Wars Ep. VIII: The Last Jedi   \n",
       "\n",
       "  production_budget domestic_gross worldwide_gross  \n",
       "0      $425,000,000   $760,507,625  $2,776,345,279  \n",
       "1      $410,600,000   $241,063,875  $1,045,663,875  \n",
       "2      $350,000,000    $42,762,350    $149,762,350  \n",
       "3      $330,600,000   $459,005,868  $1,403,013,963  \n",
       "4      $317,000,000   $620,181,382  $1,316,721,747  "
      ]
     },
     "execution_count": 13,
     "metadata": {},
     "output_type": "execute_result"
    }
   ],
   "source": [
    "df_num.head()"
   ]
  },
  {
   "cell_type": "code",
   "execution_count": 14,
   "metadata": {},
   "outputs": [
    {
     "name": "stdout",
     "output_type": "stream",
     "text": [
      "<class 'pandas.core.frame.DataFrame'>\n",
      "RangeIndex: 5782 entries, 0 to 5781\n",
      "Data columns (total 6 columns):\n",
      " #   Column             Non-Null Count  Dtype \n",
      "---  ------             --------------  ----- \n",
      " 0   id                 5782 non-null   int64 \n",
      " 1   release_date       5782 non-null   object\n",
      " 2   movie              5782 non-null   object\n",
      " 3   production_budget  5782 non-null   object\n",
      " 4   domestic_gross     5782 non-null   object\n",
      " 5   worldwide_gross    5782 non-null   object\n",
      "dtypes: int64(1), object(5)\n",
      "memory usage: 271.2+ KB\n"
     ]
    }
   ],
   "source": [
    "df_num.info()\n",
    "#All the number data are objects, we will need to convert them to int/float to provide more analysis"
   ]
  },
  {
   "cell_type": "markdown",
   "metadata": {},
   "source": [
    "Its a common idea that movies that come out during the summer and beginning of the holiday season perform better, using this data we can figure out how much it truly affects the total profitability."
   ]
  },
  {
   "cell_type": "markdown",
   "metadata": {},
   "source": [
    "## 4. Data Preparation\n",
    "\n",
    "Initial data preparation ranged between datasets. This included the removal of null values/incomplete entries, the transforming of certain data types into usable fields, and the trimming of data to only contain information from 2010-2021. It also included the creation of several new variables (profit, ROI) as well as the dropping of variables not used. This initial preparation and cleaning was done in order for us to merge all datasets into a final usable data frame from which we can draw meaniful conclusions/recommendations and produce our visuals.\n"
   ]
  },
  {
   "cell_type": "markdown",
   "metadata": {},
   "source": [
    "### Film Crew Cleaning"
   ]
  },
  {
   "cell_type": "code",
   "execution_count": 15,
   "metadata": {},
   "outputs": [],
   "source": [
    "# Delete 'writers' \n",
    "df_crew.drop(['writers'], axis=1, inplace=True)\n",
    "\n",
    "# Drop missing values in 'directors'\n",
    "df_crew.dropna(axis=0, subset=['directors'], inplace=True)\n",
    "\n",
    "# Drop duplicate in 'tconst', film id\n",
    "df_crew.drop_duplicates(subset='tconst', inplace=True)\n",
    "\n",
    "# Explode out films with multiple directors\n",
    "df_dir = df_crew.assign(director = df_crew.directors.str.split(',')).explode('director')\n",
    "\n",
    "# Drop 'directors' column because we have new column\n",
    "df_dir.drop('directors', axis = 1, inplace=True)"
   ]
  },
  {
   "cell_type": "code",
   "execution_count": 16,
   "metadata": {},
   "outputs": [
    {
     "data": {
      "text/html": [
       "<div>\n",
       "<style scoped>\n",
       "    .dataframe tbody tr th:only-of-type {\n",
       "        vertical-align: middle;\n",
       "    }\n",
       "\n",
       "    .dataframe tbody tr th {\n",
       "        vertical-align: top;\n",
       "    }\n",
       "\n",
       "    .dataframe thead th {\n",
       "        text-align: right;\n",
       "    }\n",
       "</style>\n",
       "<table border=\"1\" class=\"dataframe\">\n",
       "  <thead>\n",
       "    <tr style=\"text-align: right;\">\n",
       "      <th></th>\n",
       "      <th>tconst</th>\n",
       "      <th>director</th>\n",
       "    </tr>\n",
       "  </thead>\n",
       "  <tbody>\n",
       "    <tr>\n",
       "      <th>0</th>\n",
       "      <td>tt0285252</td>\n",
       "      <td>nm0899854</td>\n",
       "    </tr>\n",
       "    <tr>\n",
       "      <th>2</th>\n",
       "      <td>tt0462036</td>\n",
       "      <td>nm1940585</td>\n",
       "    </tr>\n",
       "    <tr>\n",
       "      <th>3</th>\n",
       "      <td>tt0835418</td>\n",
       "      <td>nm0151540</td>\n",
       "    </tr>\n",
       "    <tr>\n",
       "      <th>4</th>\n",
       "      <td>tt0878654</td>\n",
       "      <td>nm0089502</td>\n",
       "    </tr>\n",
       "    <tr>\n",
       "      <th>4</th>\n",
       "      <td>tt0878654</td>\n",
       "      <td>nm2291498</td>\n",
       "    </tr>\n",
       "  </tbody>\n",
       "</table>\n",
       "</div>"
      ],
      "text/plain": [
       "      tconst   director\n",
       "0  tt0285252  nm0899854\n",
       "2  tt0462036  nm1940585\n",
       "3  tt0835418  nm0151540\n",
       "4  tt0878654  nm0089502\n",
       "4  tt0878654  nm2291498"
      ]
     },
     "execution_count": 16,
     "metadata": {},
     "output_type": "execute_result"
    }
   ],
   "source": [
    "df_dir.head()"
   ]
  },
  {
   "cell_type": "markdown",
   "metadata": {},
   "source": [
    "### Director Name Cleaning"
   ]
  },
  {
   "cell_type": "code",
   "execution_count": 17,
   "metadata": {
    "scrolled": false
   },
   "outputs": [
    {
     "data": {
      "text/plain": [
       "nconst  primary_name\n",
       "False   False           606648\n",
       "dtype: int64"
      ]
     },
     "execution_count": 17,
     "metadata": {},
     "output_type": "execute_result"
    }
   ],
   "source": [
    "# Keep only columns 'nconst', 'primary_name'\n",
    "df_name = df_name[['nconst', 'primary_name' ]]\n",
    "\n",
    "# Checking for any null values\n",
    "df_name.isna().value_counts()"
   ]
  },
  {
   "cell_type": "code",
   "execution_count": 18,
   "metadata": {},
   "outputs": [
    {
     "data": {
      "text/plain": [
       "False    606648\n",
       "dtype: int64"
      ]
     },
     "execution_count": 18,
     "metadata": {},
     "output_type": "execute_result"
    }
   ],
   "source": [
    "# Checking for any duplicate entries\n",
    "df_name.duplicated().value_counts()"
   ]
  },
  {
   "cell_type": "code",
   "execution_count": 19,
   "metadata": {
    "scrolled": true
   },
   "outputs": [
    {
     "data": {
      "text/html": [
       "<div>\n",
       "<style scoped>\n",
       "    .dataframe tbody tr th:only-of-type {\n",
       "        vertical-align: middle;\n",
       "    }\n",
       "\n",
       "    .dataframe tbody tr th {\n",
       "        vertical-align: top;\n",
       "    }\n",
       "\n",
       "    .dataframe thead th {\n",
       "        text-align: right;\n",
       "    }\n",
       "</style>\n",
       "<table border=\"1\" class=\"dataframe\">\n",
       "  <thead>\n",
       "    <tr style=\"text-align: right;\">\n",
       "      <th></th>\n",
       "      <th>nconst</th>\n",
       "      <th>primary_name</th>\n",
       "    </tr>\n",
       "  </thead>\n",
       "  <tbody>\n",
       "    <tr>\n",
       "      <th>0</th>\n",
       "      <td>nm0061671</td>\n",
       "      <td>Mary Ellen Bauder</td>\n",
       "    </tr>\n",
       "    <tr>\n",
       "      <th>1</th>\n",
       "      <td>nm0061865</td>\n",
       "      <td>Joseph Bauer</td>\n",
       "    </tr>\n",
       "    <tr>\n",
       "      <th>2</th>\n",
       "      <td>nm0062070</td>\n",
       "      <td>Bruce Baum</td>\n",
       "    </tr>\n",
       "    <tr>\n",
       "      <th>3</th>\n",
       "      <td>nm0062195</td>\n",
       "      <td>Axel Baumann</td>\n",
       "    </tr>\n",
       "    <tr>\n",
       "      <th>4</th>\n",
       "      <td>nm0062798</td>\n",
       "      <td>Pete Baxter</td>\n",
       "    </tr>\n",
       "  </tbody>\n",
       "</table>\n",
       "</div>"
      ],
      "text/plain": [
       "      nconst       primary_name\n",
       "0  nm0061671  Mary Ellen Bauder\n",
       "1  nm0061865       Joseph Bauer\n",
       "2  nm0062070         Bruce Baum\n",
       "3  nm0062195       Axel Baumann\n",
       "4  nm0062798        Pete Baxter"
      ]
     },
     "execution_count": 19,
     "metadata": {},
     "output_type": "execute_result"
    }
   ],
   "source": [
    "df_name.head()"
   ]
  },
  {
   "cell_type": "markdown",
   "metadata": {},
   "source": [
    "### Title Basics and Genre Cleaning"
   ]
  },
  {
   "cell_type": "code",
   "execution_count": 20,
   "metadata": {},
   "outputs": [
    {
     "data": {
      "text/plain": [
       "False    146101\n",
       "dtype: int64"
      ]
     },
     "execution_count": 20,
     "metadata": {},
     "output_type": "execute_result"
    }
   ],
   "source": [
    "# Dropping all null values from relevant columns, incomplete entries would create merge conflicts\n",
    "df_title_basic.dropna(subset = ['original_title', 'genres'])\n",
    "\n",
    "# Subset data to only include year 2010-2021\n",
    "df_title_2010 = df_title_basic[(df_title_basic[\"start_year\"] >= 2010) & (df_title_basic[\"start_year\"] <= 2021)] \n",
    "\n",
    "# Drop the primary_title column, we will use original_title to avoid as many potential movies with the same name\n",
    "df_title_final = df_title_2010.drop(\"primary_title\", axis=1)\n",
    "\n",
    "# Checking for any duplicate entries\n",
    "df_title_final.duplicated(subset = 'tconst').value_counts()"
   ]
  },
  {
   "cell_type": "code",
   "execution_count": 21,
   "metadata": {
    "scrolled": false
   },
   "outputs": [
    {
     "data": {
      "text/html": [
       "<div>\n",
       "<style scoped>\n",
       "    .dataframe tbody tr th:only-of-type {\n",
       "        vertical-align: middle;\n",
       "    }\n",
       "\n",
       "    .dataframe tbody tr th {\n",
       "        vertical-align: top;\n",
       "    }\n",
       "\n",
       "    .dataframe thead th {\n",
       "        text-align: right;\n",
       "    }\n",
       "</style>\n",
       "<table border=\"1\" class=\"dataframe\">\n",
       "  <thead>\n",
       "    <tr style=\"text-align: right;\">\n",
       "      <th></th>\n",
       "      <th>tconst</th>\n",
       "      <th>original_title</th>\n",
       "      <th>start_year</th>\n",
       "      <th>runtime_minutes</th>\n",
       "      <th>genres</th>\n",
       "    </tr>\n",
       "  </thead>\n",
       "  <tbody>\n",
       "    <tr>\n",
       "      <th>0</th>\n",
       "      <td>tt0063540</td>\n",
       "      <td>Sunghursh</td>\n",
       "      <td>2013</td>\n",
       "      <td>175.0</td>\n",
       "      <td>Action,Crime,Drama</td>\n",
       "    </tr>\n",
       "    <tr>\n",
       "      <th>1</th>\n",
       "      <td>tt0066787</td>\n",
       "      <td>Ashad Ka Ek Din</td>\n",
       "      <td>2019</td>\n",
       "      <td>114.0</td>\n",
       "      <td>Biography,Drama</td>\n",
       "    </tr>\n",
       "    <tr>\n",
       "      <th>2</th>\n",
       "      <td>tt0069049</td>\n",
       "      <td>The Other Side of the Wind</td>\n",
       "      <td>2018</td>\n",
       "      <td>122.0</td>\n",
       "      <td>Drama</td>\n",
       "    </tr>\n",
       "    <tr>\n",
       "      <th>3</th>\n",
       "      <td>tt0069204</td>\n",
       "      <td>Sabse Bada Sukh</td>\n",
       "      <td>2018</td>\n",
       "      <td>NaN</td>\n",
       "      <td>Comedy,Drama</td>\n",
       "    </tr>\n",
       "    <tr>\n",
       "      <th>4</th>\n",
       "      <td>tt0100275</td>\n",
       "      <td>La Telenovela Errante</td>\n",
       "      <td>2017</td>\n",
       "      <td>80.0</td>\n",
       "      <td>Comedy,Drama,Fantasy</td>\n",
       "    </tr>\n",
       "  </tbody>\n",
       "</table>\n",
       "</div>"
      ],
      "text/plain": [
       "      tconst              original_title  start_year  runtime_minutes  \\\n",
       "0  tt0063540                   Sunghursh        2013            175.0   \n",
       "1  tt0066787             Ashad Ka Ek Din        2019            114.0   \n",
       "2  tt0069049  The Other Side of the Wind        2018            122.0   \n",
       "3  tt0069204             Sabse Bada Sukh        2018              NaN   \n",
       "4  tt0100275       La Telenovela Errante        2017             80.0   \n",
       "\n",
       "                 genres  \n",
       "0    Action,Crime,Drama  \n",
       "1       Biography,Drama  \n",
       "2                 Drama  \n",
       "3          Comedy,Drama  \n",
       "4  Comedy,Drama,Fantasy  "
      ]
     },
     "execution_count": 21,
     "metadata": {},
     "output_type": "execute_result"
    }
   ],
   "source": [
    "df_title_final.head()"
   ]
  },
  {
   "cell_type": "markdown",
   "metadata": {},
   "source": [
    "### The Numbers Cleaning"
   ]
  },
  {
   "cell_type": "code",
   "execution_count": 22,
   "metadata": {},
   "outputs": [],
   "source": [
    "# Define function to transform money values (object) into usable numbers (float)\n",
    "def data_cleaning_money(column_name):\n",
    "    df_num[column_name] = df_num[column_name].str.replace('$', '').str.replace(',', '').astype(float)\n",
    "\n",
    "# Tranform product_budget and worldwide_gross and drop domestic_gross and id columns\n",
    "data_cleaning_money('worldwide_gross')\n",
    "data_cleaning_money('production_budget')\n",
    "df_num_cleaned = df_num.drop('domestic_gross', axis = 1)\n",
    "\n",
    "# Transforming release_date into datetime object for easier use\n",
    "df_num_cleaned['release_date'] = pd.to_datetime(df_num_cleaned['release_date'])\n",
    "\n",
    "# Cleaning data and removing any potential null (0.0) values from relevant columns. \n",
    "df_num_cleaned = df_num_cleaned[df_num_cleaned['worldwide_gross'] != 0.0]\n",
    "df_num_cleaned = df_num_cleaned[df_num_cleaned['production_budget'] != 0.0]"
   ]
  },
  {
   "cell_type": "code",
   "execution_count": 23,
   "metadata": {},
   "outputs": [],
   "source": [
    "# Create new variable 'profit'\n",
    "df_num_cleaned['profit'] = (df_num_cleaned['worldwide_gross'] - df_num_cleaned['production_budget'])\n",
    "\n",
    "# Using 'profit' variable, create new variable \"ROI\" (Return On Investment)\n",
    "df_num_cleaned['ROI'] = (df_num_cleaned['profit']) / (df_num_cleaned['production_budget'])\n",
    "\n",
    "#Using all the data that comes after January 1st, 2010\n",
    "df_num_cleaned.drop(df_num_cleaned[df_num_cleaned['release_date'] < pd.Timestamp(2010, 1, 1)].index, inplace = True)\n",
    "\n",
    "#Creating month column\n",
    "df_num_cleaned['month'] = df_num_cleaned['release_date'].dt.month\n",
    "\n",
    "#Creating month name column using calendar library\n",
    "df_num_cleaned['month_name'] = df_num_cleaned['month'].apply(lambda x: calendar.month_name[x])"
   ]
  },
  {
   "cell_type": "code",
   "execution_count": 24,
   "metadata": {},
   "outputs": [],
   "source": [
    "df_num_cleaned.drop(['id', 'release_date'], axis=1, inplace=True)"
   ]
  },
  {
   "cell_type": "code",
   "execution_count": 25,
   "metadata": {
    "scrolled": false
   },
   "outputs": [
    {
     "data": {
      "text/html": [
       "<div>\n",
       "<style scoped>\n",
       "    .dataframe tbody tr th:only-of-type {\n",
       "        vertical-align: middle;\n",
       "    }\n",
       "\n",
       "    .dataframe tbody tr th {\n",
       "        vertical-align: top;\n",
       "    }\n",
       "\n",
       "    .dataframe thead th {\n",
       "        text-align: right;\n",
       "    }\n",
       "</style>\n",
       "<table border=\"1\" class=\"dataframe\">\n",
       "  <thead>\n",
       "    <tr style=\"text-align: right;\">\n",
       "      <th></th>\n",
       "      <th>movie</th>\n",
       "      <th>production_budget</th>\n",
       "      <th>worldwide_gross</th>\n",
       "      <th>profit</th>\n",
       "      <th>ROI</th>\n",
       "      <th>month</th>\n",
       "      <th>month_name</th>\n",
       "    </tr>\n",
       "  </thead>\n",
       "  <tbody>\n",
       "    <tr>\n",
       "      <th>1</th>\n",
       "      <td>Pirates of the Caribbean: On Stranger Tides</td>\n",
       "      <td>410600000.0</td>\n",
       "      <td>1.045664e+09</td>\n",
       "      <td>6.350639e+08</td>\n",
       "      <td>1.546673</td>\n",
       "      <td>5</td>\n",
       "      <td>May</td>\n",
       "    </tr>\n",
       "    <tr>\n",
       "      <th>2</th>\n",
       "      <td>Dark Phoenix</td>\n",
       "      <td>350000000.0</td>\n",
       "      <td>1.497624e+08</td>\n",
       "      <td>-2.002376e+08</td>\n",
       "      <td>-0.572108</td>\n",
       "      <td>6</td>\n",
       "      <td>June</td>\n",
       "    </tr>\n",
       "    <tr>\n",
       "      <th>3</th>\n",
       "      <td>Avengers: Age of Ultron</td>\n",
       "      <td>330600000.0</td>\n",
       "      <td>1.403014e+09</td>\n",
       "      <td>1.072414e+09</td>\n",
       "      <td>3.243841</td>\n",
       "      <td>5</td>\n",
       "      <td>May</td>\n",
       "    </tr>\n",
       "    <tr>\n",
       "      <th>4</th>\n",
       "      <td>Star Wars Ep. VIII: The Last Jedi</td>\n",
       "      <td>317000000.0</td>\n",
       "      <td>1.316722e+09</td>\n",
       "      <td>9.997217e+08</td>\n",
       "      <td>3.153696</td>\n",
       "      <td>12</td>\n",
       "      <td>December</td>\n",
       "    </tr>\n",
       "    <tr>\n",
       "      <th>5</th>\n",
       "      <td>Star Wars Ep. VII: The Force Awakens</td>\n",
       "      <td>306000000.0</td>\n",
       "      <td>2.053311e+09</td>\n",
       "      <td>1.747311e+09</td>\n",
       "      <td>5.710167</td>\n",
       "      <td>12</td>\n",
       "      <td>December</td>\n",
       "    </tr>\n",
       "  </tbody>\n",
       "</table>\n",
       "</div>"
      ],
      "text/plain": [
       "                                         movie  production_budget  \\\n",
       "1  Pirates of the Caribbean: On Stranger Tides        410600000.0   \n",
       "2                                 Dark Phoenix        350000000.0   \n",
       "3                      Avengers: Age of Ultron        330600000.0   \n",
       "4            Star Wars Ep. VIII: The Last Jedi        317000000.0   \n",
       "5         Star Wars Ep. VII: The Force Awakens        306000000.0   \n",
       "\n",
       "   worldwide_gross        profit       ROI  month month_name  \n",
       "1     1.045664e+09  6.350639e+08  1.546673      5        May  \n",
       "2     1.497624e+08 -2.002376e+08 -0.572108      6       June  \n",
       "3     1.403014e+09  1.072414e+09  3.243841      5        May  \n",
       "4     1.316722e+09  9.997217e+08  3.153696     12   December  \n",
       "5     2.053311e+09  1.747311e+09  5.710167     12   December  "
      ]
     },
     "execution_count": 25,
     "metadata": {},
     "output_type": "execute_result"
    }
   ],
   "source": [
    "df_num_cleaned.head()"
   ]
  },
  {
   "cell_type": "markdown",
   "metadata": {},
   "source": [
    "### Merging of datasets"
   ]
  },
  {
   "cell_type": "markdown",
   "metadata": {},
   "source": [
    "Consolidating our dataframes into one to perform our data visualizations/analysis"
   ]
  },
  {
   "cell_type": "code",
   "execution_count": 26,
   "metadata": {
    "scrolled": true
   },
   "outputs": [],
   "source": [
    "#Merging the director ids with the director names\n",
    "df_merge = df_dir.merge(df_name, how = 'inner', left_on = 'director', right_on = 'nconst')\n",
    "\n",
    "# Join director names back into list for continued merging into next dataset\n",
    "df_remerge = df_merge.groupby('tconst').agg({'primary_name': lambda x: x.tolist()}).reset_index()"
   ]
  },
  {
   "cell_type": "code",
   "execution_count": 27,
   "metadata": {},
   "outputs": [
    {
     "data": {
      "text/html": [
       "<div>\n",
       "<style scoped>\n",
       "    .dataframe tbody tr th:only-of-type {\n",
       "        vertical-align: middle;\n",
       "    }\n",
       "\n",
       "    .dataframe tbody tr th {\n",
       "        vertical-align: top;\n",
       "    }\n",
       "\n",
       "    .dataframe thead th {\n",
       "        text-align: right;\n",
       "    }\n",
       "</style>\n",
       "<table border=\"1\" class=\"dataframe\">\n",
       "  <thead>\n",
       "    <tr style=\"text-align: right;\">\n",
       "      <th></th>\n",
       "      <th>tconst</th>\n",
       "      <th>primary_name</th>\n",
       "    </tr>\n",
       "  </thead>\n",
       "  <tbody>\n",
       "    <tr>\n",
       "      <th>0</th>\n",
       "      <td>tt0063540</td>\n",
       "      <td>[Harnam Singh Rawail]</td>\n",
       "    </tr>\n",
       "    <tr>\n",
       "      <th>1</th>\n",
       "      <td>tt0066787</td>\n",
       "      <td>[Mani Kaul]</td>\n",
       "    </tr>\n",
       "    <tr>\n",
       "      <th>2</th>\n",
       "      <td>tt0069049</td>\n",
       "      <td>[Orson Welles]</td>\n",
       "    </tr>\n",
       "    <tr>\n",
       "      <th>3</th>\n",
       "      <td>tt0069204</td>\n",
       "      <td>[Hrishikesh Mukherjee]</td>\n",
       "    </tr>\n",
       "    <tr>\n",
       "      <th>4</th>\n",
       "      <td>tt0100275</td>\n",
       "      <td>[Valeria Sarmiento, Raoul Ruiz]</td>\n",
       "    </tr>\n",
       "    <tr>\n",
       "      <th>5</th>\n",
       "      <td>tt0111414</td>\n",
       "      <td>[Frank Howson]</td>\n",
       "    </tr>\n",
       "    <tr>\n",
       "      <th>6</th>\n",
       "      <td>tt0112502</td>\n",
       "      <td>[Mc Jones]</td>\n",
       "    </tr>\n",
       "    <tr>\n",
       "      <th>7</th>\n",
       "      <td>tt0137204</td>\n",
       "      <td>[Anthony Harrison]</td>\n",
       "    </tr>\n",
       "    <tr>\n",
       "      <th>8</th>\n",
       "      <td>tt0139613</td>\n",
       "      <td>[António Loja Neves, José Manuel Alves Pereira]</td>\n",
       "    </tr>\n",
       "    <tr>\n",
       "      <th>9</th>\n",
       "      <td>tt0144449</td>\n",
       "      <td>[Louis van Gasteren]</td>\n",
       "    </tr>\n",
       "    <tr>\n",
       "      <th>10</th>\n",
       "      <td>tt0146592</td>\n",
       "      <td>[Ágnes Kocsis]</td>\n",
       "    </tr>\n",
       "    <tr>\n",
       "      <th>11</th>\n",
       "      <td>tt0154039</td>\n",
       "      <td>[Miklós Jancsó]</td>\n",
       "    </tr>\n",
       "    <tr>\n",
       "      <th>12</th>\n",
       "      <td>tt0159369</td>\n",
       "      <td>[John Mulholland]</td>\n",
       "    </tr>\n",
       "    <tr>\n",
       "      <th>13</th>\n",
       "      <td>tt0162942</td>\n",
       "      <td>[Bence Miklauzic]</td>\n",
       "    </tr>\n",
       "    <tr>\n",
       "      <th>14</th>\n",
       "      <td>tt0170651</td>\n",
       "      <td>[Vera Chytilová]</td>\n",
       "    </tr>\n",
       "    <tr>\n",
       "      <th>15</th>\n",
       "      <td>tt0176694</td>\n",
       "      <td>[Marcell Jankovics]</td>\n",
       "    </tr>\n",
       "    <tr>\n",
       "      <th>16</th>\n",
       "      <td>tt0192528</td>\n",
       "      <td>[Stuart Paul]</td>\n",
       "    </tr>\n",
       "    <tr>\n",
       "      <th>17</th>\n",
       "      <td>tt0230212</td>\n",
       "      <td>[R.J. Adams]</td>\n",
       "    </tr>\n",
       "    <tr>\n",
       "      <th>18</th>\n",
       "      <td>tt0247643</td>\n",
       "      <td>[Thaelman Urgelles]</td>\n",
       "    </tr>\n",
       "    <tr>\n",
       "      <th>19</th>\n",
       "      <td>tt0249516</td>\n",
       "      <td>[Lawrence Kasanoff]</td>\n",
       "    </tr>\n",
       "  </tbody>\n",
       "</table>\n",
       "</div>"
      ],
      "text/plain": [
       "       tconst                                     primary_name\n",
       "0   tt0063540                            [Harnam Singh Rawail]\n",
       "1   tt0066787                                      [Mani Kaul]\n",
       "2   tt0069049                                   [Orson Welles]\n",
       "3   tt0069204                           [Hrishikesh Mukherjee]\n",
       "4   tt0100275                  [Valeria Sarmiento, Raoul Ruiz]\n",
       "5   tt0111414                                   [Frank Howson]\n",
       "6   tt0112502                                       [Mc Jones]\n",
       "7   tt0137204                               [Anthony Harrison]\n",
       "8   tt0139613  [António Loja Neves, José Manuel Alves Pereira]\n",
       "9   tt0144449                             [Louis van Gasteren]\n",
       "10  tt0146592                                   [Ágnes Kocsis]\n",
       "11  tt0154039                                  [Miklós Jancsó]\n",
       "12  tt0159369                                [John Mulholland]\n",
       "13  tt0162942                                [Bence Miklauzic]\n",
       "14  tt0170651                                 [Vera Chytilová]\n",
       "15  tt0176694                              [Marcell Jankovics]\n",
       "16  tt0192528                                    [Stuart Paul]\n",
       "17  tt0230212                                     [R.J. Adams]\n",
       "18  tt0247643                              [Thaelman Urgelles]\n",
       "19  tt0249516                              [Lawrence Kasanoff]"
      ]
     },
     "execution_count": 27,
     "metadata": {},
     "output_type": "execute_result"
    }
   ],
   "source": [
    "df_remerge.head(20)"
   ]
  },
  {
   "cell_type": "code",
   "execution_count": 28,
   "metadata": {},
   "outputs": [
    {
     "data": {
      "text/html": [
       "<div>\n",
       "<style scoped>\n",
       "    .dataframe tbody tr th:only-of-type {\n",
       "        vertical-align: middle;\n",
       "    }\n",
       "\n",
       "    .dataframe tbody tr th {\n",
       "        vertical-align: top;\n",
       "    }\n",
       "\n",
       "    .dataframe thead th {\n",
       "        text-align: right;\n",
       "    }\n",
       "</style>\n",
       "<table border=\"1\" class=\"dataframe\">\n",
       "  <thead>\n",
       "    <tr style=\"text-align: right;\">\n",
       "      <th></th>\n",
       "      <th>director_name</th>\n",
       "      <th>original_title</th>\n",
       "      <th>runtime_minutes</th>\n",
       "      <th>genre</th>\n",
       "    </tr>\n",
       "  </thead>\n",
       "  <tbody>\n",
       "    <tr>\n",
       "      <th>0</th>\n",
       "      <td>[Harnam Singh Rawail]</td>\n",
       "      <td>Sunghursh</td>\n",
       "      <td>175.0</td>\n",
       "      <td>[Action, Crime, Drama]</td>\n",
       "    </tr>\n",
       "    <tr>\n",
       "      <th>1</th>\n",
       "      <td>[Mani Kaul]</td>\n",
       "      <td>Ashad Ka Ek Din</td>\n",
       "      <td>114.0</td>\n",
       "      <td>[Biography, Drama]</td>\n",
       "    </tr>\n",
       "    <tr>\n",
       "      <th>2</th>\n",
       "      <td>[Orson Welles]</td>\n",
       "      <td>The Other Side of the Wind</td>\n",
       "      <td>122.0</td>\n",
       "      <td>[Drama]</td>\n",
       "    </tr>\n",
       "    <tr>\n",
       "      <th>3</th>\n",
       "      <td>[Hrishikesh Mukherjee]</td>\n",
       "      <td>Sabse Bada Sukh</td>\n",
       "      <td>NaN</td>\n",
       "      <td>[Comedy, Drama]</td>\n",
       "    </tr>\n",
       "    <tr>\n",
       "      <th>4</th>\n",
       "      <td>[Valeria Sarmiento, Raoul Ruiz]</td>\n",
       "      <td>La Telenovela Errante</td>\n",
       "      <td>80.0</td>\n",
       "      <td>[Comedy, Drama, Fantasy]</td>\n",
       "    </tr>\n",
       "  </tbody>\n",
       "</table>\n",
       "</div>"
      ],
      "text/plain": [
       "                     director_name              original_title  \\\n",
       "0            [Harnam Singh Rawail]                   Sunghursh   \n",
       "1                      [Mani Kaul]             Ashad Ka Ek Din   \n",
       "2                   [Orson Welles]  The Other Side of the Wind   \n",
       "3           [Hrishikesh Mukherjee]             Sabse Bada Sukh   \n",
       "4  [Valeria Sarmiento, Raoul Ruiz]       La Telenovela Errante   \n",
       "\n",
       "   runtime_minutes                     genre  \n",
       "0            175.0    [Action, Crime, Drama]  \n",
       "1            114.0        [Biography, Drama]  \n",
       "2            122.0                   [Drama]  \n",
       "3              NaN           [Comedy, Drama]  \n",
       "4             80.0  [Comedy, Drama, Fantasy]  "
      ]
     },
     "execution_count": 28,
     "metadata": {},
     "output_type": "execute_result"
    }
   ],
   "source": [
    "#second merge, adding director to the df_title data frame\n",
    "df_merge1 = df_remerge.merge(df_title_final, how = 'inner', left_on = 'tconst', right_on = 'tconst')\n",
    "\n",
    "#dropping irrelevant data\n",
    "df_merge1.drop(['tconst', 'start_year'], axis=1, inplace=True)\n",
    "\n",
    "# Rename director column\n",
    "df_merge1.rename(columns={'primary_name':'director_name'}, inplace=True)\n",
    "\n",
    "# Transform genres into list of genres for future explode\n",
    "df_merge2 = df_merge1.assign(genre = df_merge1.genres.str.split(','))\n",
    "\n",
    "# Drop genres column that is not a list\n",
    "df_merge2.drop('genres', axis = 1, inplace=True)\n",
    "\n",
    "df_merge2.head() "
   ]
  },
  {
   "cell_type": "code",
   "execution_count": 29,
   "metadata": {
    "scrolled": false
   },
   "outputs": [
    {
     "data": {
      "text/html": [
       "<div>\n",
       "<style scoped>\n",
       "    .dataframe tbody tr th:only-of-type {\n",
       "        vertical-align: middle;\n",
       "    }\n",
       "\n",
       "    .dataframe tbody tr th {\n",
       "        vertical-align: top;\n",
       "    }\n",
       "\n",
       "    .dataframe thead th {\n",
       "        text-align: right;\n",
       "    }\n",
       "</style>\n",
       "<table border=\"1\" class=\"dataframe\">\n",
       "  <thead>\n",
       "    <tr style=\"text-align: right;\">\n",
       "      <th></th>\n",
       "      <th>movie</th>\n",
       "      <th>production_budget</th>\n",
       "      <th>worldwide_gross</th>\n",
       "      <th>profit</th>\n",
       "      <th>ROI</th>\n",
       "      <th>month</th>\n",
       "      <th>month_name</th>\n",
       "      <th>director_name</th>\n",
       "      <th>runtime_minutes</th>\n",
       "      <th>genre</th>\n",
       "    </tr>\n",
       "  </thead>\n",
       "  <tbody>\n",
       "    <tr>\n",
       "      <th>0</th>\n",
       "      <td>Pirates of the Caribbean: On Stranger Tides</td>\n",
       "      <td>410600000.0</td>\n",
       "      <td>1.045664e+09</td>\n",
       "      <td>6.350639e+08</td>\n",
       "      <td>1.546673</td>\n",
       "      <td>5</td>\n",
       "      <td>May</td>\n",
       "      <td>[Rob Marshall]</td>\n",
       "      <td>136.0</td>\n",
       "      <td>[Action, Adventure, Fantasy]</td>\n",
       "    </tr>\n",
       "    <tr>\n",
       "      <th>1</th>\n",
       "      <td>Dark Phoenix</td>\n",
       "      <td>350000000.0</td>\n",
       "      <td>1.497624e+08</td>\n",
       "      <td>-2.002376e+08</td>\n",
       "      <td>-0.572108</td>\n",
       "      <td>6</td>\n",
       "      <td>June</td>\n",
       "      <td>[Simon Kinberg]</td>\n",
       "      <td>113.0</td>\n",
       "      <td>[Action, Adventure, Sci-Fi]</td>\n",
       "    </tr>\n",
       "    <tr>\n",
       "      <th>2</th>\n",
       "      <td>Avengers: Age of Ultron</td>\n",
       "      <td>330600000.0</td>\n",
       "      <td>1.403014e+09</td>\n",
       "      <td>1.072414e+09</td>\n",
       "      <td>3.243841</td>\n",
       "      <td>5</td>\n",
       "      <td>May</td>\n",
       "      <td>[Joss Whedon]</td>\n",
       "      <td>141.0</td>\n",
       "      <td>[Action, Adventure, Sci-Fi]</td>\n",
       "    </tr>\n",
       "    <tr>\n",
       "      <th>3</th>\n",
       "      <td>Avengers: Infinity War</td>\n",
       "      <td>300000000.0</td>\n",
       "      <td>2.048134e+09</td>\n",
       "      <td>1.748134e+09</td>\n",
       "      <td>5.827114</td>\n",
       "      <td>4</td>\n",
       "      <td>April</td>\n",
       "      <td>[Anthony Russo, Joe Russo]</td>\n",
       "      <td>149.0</td>\n",
       "      <td>[Action, Adventure, Sci-Fi]</td>\n",
       "    </tr>\n",
       "    <tr>\n",
       "      <th>4</th>\n",
       "      <td>Justice League</td>\n",
       "      <td>300000000.0</td>\n",
       "      <td>6.559452e+08</td>\n",
       "      <td>3.559452e+08</td>\n",
       "      <td>1.186484</td>\n",
       "      <td>11</td>\n",
       "      <td>November</td>\n",
       "      <td>[Zack Snyder]</td>\n",
       "      <td>120.0</td>\n",
       "      <td>[Action, Adventure, Fantasy]</td>\n",
       "    </tr>\n",
       "  </tbody>\n",
       "</table>\n",
       "</div>"
      ],
      "text/plain": [
       "                                         movie  production_budget  \\\n",
       "0  Pirates of the Caribbean: On Stranger Tides        410600000.0   \n",
       "1                                 Dark Phoenix        350000000.0   \n",
       "2                      Avengers: Age of Ultron        330600000.0   \n",
       "3                       Avengers: Infinity War        300000000.0   \n",
       "4                               Justice League        300000000.0   \n",
       "\n",
       "   worldwide_gross        profit       ROI  month month_name  \\\n",
       "0     1.045664e+09  6.350639e+08  1.546673      5        May   \n",
       "1     1.497624e+08 -2.002376e+08 -0.572108      6       June   \n",
       "2     1.403014e+09  1.072414e+09  3.243841      5        May   \n",
       "3     2.048134e+09  1.748134e+09  5.827114      4      April   \n",
       "4     6.559452e+08  3.559452e+08  1.186484     11   November   \n",
       "\n",
       "                director_name  runtime_minutes                         genre  \n",
       "0              [Rob Marshall]            136.0  [Action, Adventure, Fantasy]  \n",
       "1             [Simon Kinberg]            113.0   [Action, Adventure, Sci-Fi]  \n",
       "2               [Joss Whedon]            141.0   [Action, Adventure, Sci-Fi]  \n",
       "3  [Anthony Russo, Joe Russo]            149.0   [Action, Adventure, Sci-Fi]  \n",
       "4               [Zack Snyder]            120.0  [Action, Adventure, Fantasy]  "
      ]
     },
     "execution_count": 29,
     "metadata": {},
     "output_type": "execute_result"
    }
   ],
   "source": [
    "#final merge, adding the merged datafram on the numbers file\n",
    "df_merge_final = df_num_cleaned.merge(df_merge2, how = 'inner', left_on = 'movie', right_on = 'original_title')\n",
    "\n",
    "#dropping similar column\n",
    "df_merge_final.drop('original_title', axis=1, inplace=True)\n",
    "\n",
    "df_merge_final.drop_duplicates(subset = ['movie'], inplace=True)\n",
    "\n",
    "df_merge_final.head()"
   ]
  },
  {
   "cell_type": "markdown",
   "metadata": {},
   "source": [
    "## 5. Data Manipulation \n",
    "To assess outliers and anomalities in the dataset, we check scatter plots and distributions for our main variables. "
   ]
  },
  {
   "cell_type": "code",
   "execution_count": 30,
   "metadata": {
    "scrolled": true
   },
   "outputs": [
    {
     "data": {
      "image/png": "[encoded data removed]",
      "text/plain": [
       "<Figure size 432x288 with 1 Axes>"
      ]
     },
     "metadata": {
      "needs_background": "light"
     },
     "output_type": "display_data"
    }
   ],
   "source": [
    "df_merge_final.plot.scatter('production_budget', 'ROI');"
   ]
  },
  {
   "cell_type": "code",
   "execution_count": 31,
   "metadata": {},
   "outputs": [],
   "source": [
    "# Removing outlier movie 'The Gallows'\n",
    "df_merge_final = df_merge_final[df_merge_final['movie'] != 'The Gallows']"
   ]
  },
  {
   "cell_type": "code",
   "execution_count": 32,
   "metadata": {},
   "outputs": [
    {
     "data": {
      "image/png": "[encoded data removed]",
      "text/plain": [
       "<Figure size 432x288 with 1 Axes>"
      ]
     },
     "metadata": {
      "needs_background": "light"
     },
     "output_type": "display_data"
    }
   ],
   "source": [
    "df_merge_final.plot.scatter('production_budget', 'ROI');"
   ]
  },
  {
   "cell_type": "code",
   "execution_count": 33,
   "metadata": {},
   "outputs": [
    {
     "data": {
      "image/png": "[encoded data removed]",
      "text/plain": [
       "<Figure size 432x288 with 1 Axes>"
      ]
     },
     "metadata": {
      "needs_background": "light"
     },
     "output_type": "display_data"
    }
   ],
   "source": [
    "df_merge_final.plot.scatter('production_budget', 'profit');"
   ]
  },
  {
   "cell_type": "code",
   "execution_count": null,
   "metadata": {},
   "outputs": [],
   "source": []
  },
  {
   "cell_type": "code",
   "execution_count": 34,
   "metadata": {},
   "outputs": [
    {
     "data": {
      "image/png": "[encoded data removed]",
      "text/plain": [
       "<Figure size 432x288 with 1 Axes>"
      ]
     },
     "metadata": {
      "needs_background": "light"
     },
     "output_type": "display_data"
    }
   ],
   "source": [
    "df_merge_final.plot.scatter('runtime_minutes', 'profit');"
   ]
  },
  {
   "cell_type": "code",
   "execution_count": null,
   "metadata": {},
   "outputs": [],
   "source": []
  },
  {
   "cell_type": "code",
   "execution_count": 35,
   "metadata": {
    "scrolled": true
   },
   "outputs": [
    {
     "data": {
      "image/png": "[encoded data removed]",
      "text/plain": [
       "<Figure size 432x288 with 1 Axes>"
      ]
     },
     "metadata": {
      "needs_background": "light"
     },
     "output_type": "display_data"
    }
   ],
   "source": [
    "df_merge_final.plot.scatter('runtime_minutes', 'ROI');"
   ]
  },
  {
   "cell_type": "code",
   "execution_count": null,
   "metadata": {},
   "outputs": [],
   "source": []
  },
  {
   "cell_type": "code",
   "execution_count": 36,
   "metadata": {
    "scrolled": true
   },
   "outputs": [
    {
     "data": {
      "image/png": "[encoded data removed]",
      "text/plain": [
       "<Figure size 432x288 with 1 Axes>"
      ]
     },
     "metadata": {
      "needs_background": "light"
     },
     "output_type": "display_data"
    }
   ],
   "source": [
    "df_merge_final.plot.scatter('worldwide_gross', 'ROI');"
   ]
  },
  {
   "cell_type": "code",
   "execution_count": 50,
   "metadata": {
    "scrolled": true
   },
   "outputs": [
    {
     "data": {
      "image/png": "[encoded data removed]",
      "text/plain": [
       "<Figure size 432x288 with 1 Axes>"
      ]
     },
     "metadata": {},
     "output_type": "display_data"
    }
   ],
   "source": [
    "df_merge_final.plot.scatter('month_name', 'ROI')\n",
    "plt.xticks(rotation=70);"
   ]
  },
  {
   "cell_type": "code",
   "execution_count": 51,
   "metadata": {},
   "outputs": [
    {
     "name": "stdout",
     "output_type": "stream",
     "text": [
      "<class 'pandas.core.frame.DataFrame'>\n",
      "Int64Index: 1610 entries, 0 to 2191\n",
      "Data columns (total 10 columns):\n",
      " #   Column             Non-Null Count  Dtype  \n",
      "---  ------             --------------  -----  \n",
      " 0   movie              1610 non-null   object \n",
      " 1   production_budget  1610 non-null   float64\n",
      " 2   worldwide_gross    1610 non-null   float64\n",
      " 3   profit             1610 non-null   float64\n",
      " 4   ROI                1610 non-null   float64\n",
      " 5   month              1610 non-null   int64  \n",
      " 6   month_name         1610 non-null   object \n",
      " 7   director_name      1610 non-null   object \n",
      " 8   runtime_minutes    1587 non-null   float64\n",
      " 9   genre              1606 non-null   object \n",
      "dtypes: float64(5), int64(1), object(4)\n",
      "memory usage: 138.4+ KB\n"
     ]
    }
   ],
   "source": [
    "# Our final dataset includes 1610 films. \n",
    "df_merge_final.info()"
   ]
  },
  {
   "cell_type": "markdown",
   "metadata": {},
   "source": [
    "## 6. Data Analysis\n",
    "We use descriptive data analysis to find the patterns in highly profitable movies. To answer our three business questions, the following anlaysis focuses on mainly three aspects of movies, (1) Movie Genres, (2) Seasonality, and (3) Directors.  \n",
    "\n",
    "We use ROI as the primary profitability measures in this analysis. But we also look into net profit, production budget, and worldwide gross for several analysis in below. "
   ]
  },
  {
   "cell_type": "markdown",
   "metadata": {},
   "source": [
    "### 6. 1. Genre Analysis\n",
    "\n",
    "#### Findings:  \n",
    "Average ROI is significantly higher in the Horror/Mystery genres then other genres. Howeover, this could be caused\n",
    "by one specific outperforming horror/mystery movie, which might have skewed the distribution upward. So, we also check the boxplot figure for ROI. The median ROIs for horror and mistery movies are still relatively higher than that for other genres, meaning most horror and mystery movies have higher ROIs. \n",
    "Additionally, to see why ROIs for horror and mystery movies are so high, we also looked at production budget by genre. The average budget on a horror film is considerably lower than other major genres. And compared to other genres with similar budget ranges, horror films produce relatively higher global grossing. \n",
    "\n",
    "#### Recommendation:\n",
    "For a higher ROI, the Horror/Mystery genres are good place to invest."
   ]
  },
  {
   "cell_type": "markdown",
   "metadata": {},
   "source": [
    "#### Cleaning up genres "
   ]
  },
  {
   "cell_type": "code",
   "execution_count": 38,
   "metadata": {},
   "outputs": [],
   "source": [
    "# Creating a dataframe that pulls out each genre, including films that have multiple genres.\n",
    "# This will allow us to perform anaylsis based on grouping by genre\n",
    "df_genre = df_merge_final.explode('genre')\n",
    "\n",
    "df_genre_grp = df_genre.groupby(by = 'genre').mean().reset_index()\n",
    "\n",
    "df_genre_grp.sort_values(by='ROI', ascending=False, inplace=True)"
   ]
  },
  {
   "cell_type": "code",
   "execution_count": 39,
   "metadata": {
    "scrolled": true
   },
   "outputs": [
    {
     "data": {
      "text/html": [
       "<div>\n",
       "<style scoped>\n",
       "    .dataframe tbody tr th:only-of-type {\n",
       "        vertical-align: middle;\n",
       "    }\n",
       "\n",
       "    .dataframe tbody tr th {\n",
       "        vertical-align: top;\n",
       "    }\n",
       "\n",
       "    .dataframe thead th {\n",
       "        text-align: right;\n",
       "    }\n",
       "</style>\n",
       "<table border=\"1\" class=\"dataframe\">\n",
       "  <thead>\n",
       "    <tr style=\"text-align: right;\">\n",
       "      <th></th>\n",
       "      <th>genre</th>\n",
       "      <th>production_budget</th>\n",
       "      <th>worldwide_gross</th>\n",
       "      <th>profit</th>\n",
       "      <th>ROI</th>\n",
       "      <th>month</th>\n",
       "      <th>runtime_minutes</th>\n",
       "    </tr>\n",
       "  </thead>\n",
       "  <tbody>\n",
       "    <tr>\n",
       "      <th>11</th>\n",
       "      <td>Horror</td>\n",
       "      <td>1.759358e+07</td>\n",
       "      <td>6.651803e+07</td>\n",
       "      <td>4.892444e+07</td>\n",
       "      <td>6.466335</td>\n",
       "      <td>6.505556</td>\n",
       "      <td>97.623596</td>\n",
       "    </tr>\n",
       "    <tr>\n",
       "      <th>14</th>\n",
       "      <td>Mystery</td>\n",
       "      <td>2.414520e+07</td>\n",
       "      <td>8.696404e+07</td>\n",
       "      <td>6.281885e+07</td>\n",
       "      <td>6.148324</td>\n",
       "      <td>6.585938</td>\n",
       "      <td>105.796875</td>\n",
       "    </tr>\n",
       "    <tr>\n",
       "      <th>18</th>\n",
       "      <td>Thriller</td>\n",
       "      <td>3.132535e+07</td>\n",
       "      <td>1.071486e+08</td>\n",
       "      <td>7.582330e+07</td>\n",
       "      <td>4.338647</td>\n",
       "      <td>6.716981</td>\n",
       "      <td>105.357414</td>\n",
       "    </tr>\n",
       "    <tr>\n",
       "      <th>15</th>\n",
       "      <td>Romance</td>\n",
       "      <td>2.102584e+07</td>\n",
       "      <td>6.225014e+07</td>\n",
       "      <td>4.122430e+07</td>\n",
       "      <td>2.659392</td>\n",
       "      <td>6.532710</td>\n",
       "      <td>106.589623</td>\n",
       "    </tr>\n",
       "    <tr>\n",
       "      <th>17</th>\n",
       "      <td>Sport</td>\n",
       "      <td>2.647500e+07</td>\n",
       "      <td>8.757090e+07</td>\n",
       "      <td>6.109590e+07</td>\n",
       "      <td>2.578671</td>\n",
       "      <td>7.843750</td>\n",
       "      <td>110.437500</td>\n",
       "    </tr>\n",
       "    <tr>\n",
       "      <th>16</th>\n",
       "      <td>Sci-Fi</td>\n",
       "      <td>8.938528e+07</td>\n",
       "      <td>3.212131e+08</td>\n",
       "      <td>2.318278e+08</td>\n",
       "      <td>2.576448</td>\n",
       "      <td>6.150376</td>\n",
       "      <td>114.954887</td>\n",
       "    </tr>\n",
       "    <tr>\n",
       "      <th>2</th>\n",
       "      <td>Animation</td>\n",
       "      <td>9.141667e+07</td>\n",
       "      <td>3.409232e+08</td>\n",
       "      <td>2.495065e+08</td>\n",
       "      <td>2.457954</td>\n",
       "      <td>7.212963</td>\n",
       "      <td>94.000000</td>\n",
       "    </tr>\n",
       "    <tr>\n",
       "      <th>4</th>\n",
       "      <td>Comedy</td>\n",
       "      <td>3.817925e+07</td>\n",
       "      <td>1.264128e+08</td>\n",
       "      <td>8.823350e+07</td>\n",
       "      <td>2.326252</td>\n",
       "      <td>6.778598</td>\n",
       "      <td>102.425926</td>\n",
       "    </tr>\n",
       "    <tr>\n",
       "      <th>12</th>\n",
       "      <td>Music</td>\n",
       "      <td>1.674944e+07</td>\n",
       "      <td>6.771147e+07</td>\n",
       "      <td>5.096202e+07</td>\n",
       "      <td>2.225392</td>\n",
       "      <td>7.018519</td>\n",
       "      <td>104.870370</td>\n",
       "    </tr>\n",
       "    <tr>\n",
       "      <th>3</th>\n",
       "      <td>Biography</td>\n",
       "      <td>2.415852e+07</td>\n",
       "      <td>7.189215e+07</td>\n",
       "      <td>4.773362e+07</td>\n",
       "      <td>2.127455</td>\n",
       "      <td>8.026846</td>\n",
       "      <td>115.489933</td>\n",
       "    </tr>\n",
       "    <tr>\n",
       "      <th>7</th>\n",
       "      <td>Drama</td>\n",
       "      <td>2.511533e+07</td>\n",
       "      <td>6.701719e+07</td>\n",
       "      <td>4.190186e+07</td>\n",
       "      <td>2.114584</td>\n",
       "      <td>7.065594</td>\n",
       "      <td>110.611529</td>\n",
       "    </tr>\n",
       "    <tr>\n",
       "      <th>1</th>\n",
       "      <td>Adventure</td>\n",
       "      <td>1.019974e+08</td>\n",
       "      <td>3.298905e+08</td>\n",
       "      <td>2.278931e+08</td>\n",
       "      <td>2.039892</td>\n",
       "      <td>6.767313</td>\n",
       "      <td>110.606648</td>\n",
       "    </tr>\n",
       "    <tr>\n",
       "      <th>13</th>\n",
       "      <td>Musical</td>\n",
       "      <td>5.354444e+07</td>\n",
       "      <td>2.648409e+08</td>\n",
       "      <td>2.112965e+08</td>\n",
       "      <td>1.993437</td>\n",
       "      <td>6.555556</td>\n",
       "      <td>121.222222</td>\n",
       "    </tr>\n",
       "    <tr>\n",
       "      <th>9</th>\n",
       "      <td>Fantasy</td>\n",
       "      <td>8.154269e+07</td>\n",
       "      <td>2.227938e+08</td>\n",
       "      <td>1.412511e+08</td>\n",
       "      <td>1.950148</td>\n",
       "      <td>6.284615</td>\n",
       "      <td>110.131783</td>\n",
       "    </tr>\n",
       "    <tr>\n",
       "      <th>6</th>\n",
       "      <td>Documentary</td>\n",
       "      <td>1.085639e+07</td>\n",
       "      <td>3.603690e+07</td>\n",
       "      <td>2.518051e+07</td>\n",
       "      <td>1.946950</td>\n",
       "      <td>6.701493</td>\n",
       "      <td>81.153846</td>\n",
       "    </tr>\n",
       "    <tr>\n",
       "      <th>0</th>\n",
       "      <td>Action</td>\n",
       "      <td>7.987774e+07</td>\n",
       "      <td>2.370531e+08</td>\n",
       "      <td>1.571754e+08</td>\n",
       "      <td>1.772196</td>\n",
       "      <td>6.232877</td>\n",
       "      <td>112.244804</td>\n",
       "    </tr>\n",
       "    <tr>\n",
       "      <th>8</th>\n",
       "      <td>Family</td>\n",
       "      <td>6.613646e+07</td>\n",
       "      <td>1.886714e+08</td>\n",
       "      <td>1.225349e+08</td>\n",
       "      <td>1.701153</td>\n",
       "      <td>7.093750</td>\n",
       "      <td>102.500000</td>\n",
       "    </tr>\n",
       "    <tr>\n",
       "      <th>10</th>\n",
       "      <td>History</td>\n",
       "      <td>2.914528e+07</td>\n",
       "      <td>6.453504e+07</td>\n",
       "      <td>3.538975e+07</td>\n",
       "      <td>1.126930</td>\n",
       "      <td>7.547170</td>\n",
       "      <td>118.000000</td>\n",
       "    </tr>\n",
       "    <tr>\n",
       "      <th>5</th>\n",
       "      <td>Crime</td>\n",
       "      <td>3.050164e+07</td>\n",
       "      <td>7.244752e+07</td>\n",
       "      <td>4.194588e+07</td>\n",
       "      <td>1.103861</td>\n",
       "      <td>6.737903</td>\n",
       "      <td>108.711382</td>\n",
       "    </tr>\n",
       "    <tr>\n",
       "      <th>20</th>\n",
       "      <td>Western</td>\n",
       "      <td>5.483636e+07</td>\n",
       "      <td>1.052609e+08</td>\n",
       "      <td>5.042458e+07</td>\n",
       "      <td>0.643589</td>\n",
       "      <td>7.727273</td>\n",
       "      <td>115.272727</td>\n",
       "    </tr>\n",
       "    <tr>\n",
       "      <th>19</th>\n",
       "      <td>War</td>\n",
       "      <td>2.217500e+07</td>\n",
       "      <td>4.498897e+07</td>\n",
       "      <td>2.281397e+07</td>\n",
       "      <td>0.513587</td>\n",
       "      <td>6.583333</td>\n",
       "      <td>116.666667</td>\n",
       "    </tr>\n",
       "  </tbody>\n",
       "</table>\n",
       "</div>"
      ],
      "text/plain": [
       "          genre  production_budget  worldwide_gross        profit       ROI  \\\n",
       "11       Horror       1.759358e+07     6.651803e+07  4.892444e+07  6.466335   \n",
       "14      Mystery       2.414520e+07     8.696404e+07  6.281885e+07  6.148324   \n",
       "18     Thriller       3.132535e+07     1.071486e+08  7.582330e+07  4.338647   \n",
       "15      Romance       2.102584e+07     6.225014e+07  4.122430e+07  2.659392   \n",
       "17        Sport       2.647500e+07     8.757090e+07  6.109590e+07  2.578671   \n",
       "16       Sci-Fi       8.938528e+07     3.212131e+08  2.318278e+08  2.576448   \n",
       "2     Animation       9.141667e+07     3.409232e+08  2.495065e+08  2.457954   \n",
       "4        Comedy       3.817925e+07     1.264128e+08  8.823350e+07  2.326252   \n",
       "12        Music       1.674944e+07     6.771147e+07  5.096202e+07  2.225392   \n",
       "3     Biography       2.415852e+07     7.189215e+07  4.773362e+07  2.127455   \n",
       "7         Drama       2.511533e+07     6.701719e+07  4.190186e+07  2.114584   \n",
       "1     Adventure       1.019974e+08     3.298905e+08  2.278931e+08  2.039892   \n",
       "13      Musical       5.354444e+07     2.648409e+08  2.112965e+08  1.993437   \n",
       "9       Fantasy       8.154269e+07     2.227938e+08  1.412511e+08  1.950148   \n",
       "6   Documentary       1.085639e+07     3.603690e+07  2.518051e+07  1.946950   \n",
       "0        Action       7.987774e+07     2.370531e+08  1.571754e+08  1.772196   \n",
       "8        Family       6.613646e+07     1.886714e+08  1.225349e+08  1.701153   \n",
       "10      History       2.914528e+07     6.453504e+07  3.538975e+07  1.126930   \n",
       "5         Crime       3.050164e+07     7.244752e+07  4.194588e+07  1.103861   \n",
       "20      Western       5.483636e+07     1.052609e+08  5.042458e+07  0.643589   \n",
       "19          War       2.217500e+07     4.498897e+07  2.281397e+07  0.513587   \n",
       "\n",
       "       month  runtime_minutes  \n",
       "11  6.505556        97.623596  \n",
       "14  6.585938       105.796875  \n",
       "18  6.716981       105.357414  \n",
       "15  6.532710       106.589623  \n",
       "17  7.843750       110.437500  \n",
       "16  6.150376       114.954887  \n",
       "2   7.212963        94.000000  \n",
       "4   6.778598       102.425926  \n",
       "12  7.018519       104.870370  \n",
       "3   8.026846       115.489933  \n",
       "7   7.065594       110.611529  \n",
       "1   6.767313       110.606648  \n",
       "13  6.555556       121.222222  \n",
       "9   6.284615       110.131783  \n",
       "6   6.701493        81.153846  \n",
       "0   6.232877       112.244804  \n",
       "8   7.093750       102.500000  \n",
       "10  7.547170       118.000000  \n",
       "5   6.737903       108.711382  \n",
       "20  7.727273       115.272727  \n",
       "19  6.583333       116.666667  "
      ]
     },
     "execution_count": 39,
     "metadata": {},
     "output_type": "execute_result"
    }
   ],
   "source": [
    "df_genre_grp"
   ]
  },
  {
   "cell_type": "markdown",
   "metadata": {},
   "source": [
    "#### ROI by Genre"
   ]
  },
  {
   "cell_type": "code",
   "execution_count": 40,
   "metadata": {},
   "outputs": [
    {
     "data": {
      "image/png": "[encoded data removed]",
      "text/plain": [
       "<Figure size 720x432 with 1 Axes>"
      ]
     },
     "metadata": {},
     "output_type": "display_data"
    }
   ],
   "source": [
    "sns.set_style('darkgrid')\n",
    "\n",
    "fig_dir, ax = plt.subplots(figsize=(10,6))\n",
    "sns.set_style(\"darkgrid\")\n",
    "\n",
    "plt.bar(df_genre_grp['genre'], df_genre_grp['ROI'])\n",
    "ax.grid(False)\n",
    "plt.title('ROI by Genre')\n",
    "plt.xlabel('Genre')\n",
    "plt.ylabel('Average ROI')\n",
    "plt.xticks(rotation=90)\n",
    "plt.savefig('Images/ROIBARGenre.png', bbox_inches = 'tight');"
   ]
  },
  {
   "cell_type": "markdown",
   "metadata": {},
   "source": [
    "\n",
    "\n"
   ]
  },
  {
   "cell_type": "code",
   "execution_count": 41,
   "metadata": {
    "scrolled": true
   },
   "outputs": [
    {
     "data": {
      "image/png": "[encoded data removed]",
      "text/plain": [
       "<Figure size 720x360 with 1 Axes>"
      ]
     },
     "metadata": {},
     "output_type": "display_data"
    }
   ],
   "source": [
    "# Anaylsis of ROI based on movie genre, utlizing boxplot visualation\n",
    "# Film data that had multiple genres are included in each genre\n",
    "sns.set_style('darkgrid')\n",
    "\n",
    "fig_box1 = df_genre.boxplot(\n",
    "    column='ROI', by='genre', fontsize=14, figsize=(10,5), rot=90, \n",
    "        showfliers=False, showmeans=True, showbox=True, grid=False)\n",
    "\n",
    "\n",
    "fig_box1.set_ylabel('ROI' , fontsize=16)\n",
    "fig_box1.set_xlabel('Genre' , fontsize=16)\n",
    "fig_box1.set_title('Return on Investment by Genre' , fontsize=20)\n",
    "plt.suptitle('');"
   ]
  },
  {
   "cell_type": "code",
   "execution_count": 42,
   "metadata": {},
   "outputs": [
    {
     "data": {
      "text/html": [
       "<div>\n",
       "<style scoped>\n",
       "    .dataframe tbody tr th:only-of-type {\n",
       "        vertical-align: middle;\n",
       "    }\n",
       "\n",
       "    .dataframe tbody tr th {\n",
       "        vertical-align: top;\n",
       "    }\n",
       "\n",
       "    .dataframe thead th {\n",
       "        text-align: right;\n",
       "    }\n",
       "</style>\n",
       "<table border=\"1\" class=\"dataframe\">\n",
       "  <thead>\n",
       "    <tr style=\"text-align: right;\">\n",
       "      <th></th>\n",
       "      <th>genre</th>\n",
       "      <th>production_budget</th>\n",
       "      <th>worldwide_gross</th>\n",
       "      <th>profit</th>\n",
       "      <th>ROI</th>\n",
       "      <th>month</th>\n",
       "      <th>runtime_minutes</th>\n",
       "    </tr>\n",
       "  </thead>\n",
       "  <tbody>\n",
       "    <tr>\n",
       "      <th>11</th>\n",
       "      <td>Horror</td>\n",
       "      <td>1.759358e+07</td>\n",
       "      <td>6.651803e+07</td>\n",
       "      <td>4.892444e+07</td>\n",
       "      <td>6.466335</td>\n",
       "      <td>6.505556</td>\n",
       "      <td>97.623596</td>\n",
       "    </tr>\n",
       "    <tr>\n",
       "      <th>14</th>\n",
       "      <td>Mystery</td>\n",
       "      <td>2.414520e+07</td>\n",
       "      <td>8.696404e+07</td>\n",
       "      <td>6.281885e+07</td>\n",
       "      <td>6.148324</td>\n",
       "      <td>6.585938</td>\n",
       "      <td>105.796875</td>\n",
       "    </tr>\n",
       "    <tr>\n",
       "      <th>18</th>\n",
       "      <td>Thriller</td>\n",
       "      <td>3.132535e+07</td>\n",
       "      <td>1.071486e+08</td>\n",
       "      <td>7.582330e+07</td>\n",
       "      <td>4.338647</td>\n",
       "      <td>6.716981</td>\n",
       "      <td>105.357414</td>\n",
       "    </tr>\n",
       "    <tr>\n",
       "      <th>15</th>\n",
       "      <td>Romance</td>\n",
       "      <td>2.102584e+07</td>\n",
       "      <td>6.225014e+07</td>\n",
       "      <td>4.122430e+07</td>\n",
       "      <td>2.659392</td>\n",
       "      <td>6.532710</td>\n",
       "      <td>106.589623</td>\n",
       "    </tr>\n",
       "    <tr>\n",
       "      <th>17</th>\n",
       "      <td>Sport</td>\n",
       "      <td>2.647500e+07</td>\n",
       "      <td>8.757090e+07</td>\n",
       "      <td>6.109590e+07</td>\n",
       "      <td>2.578671</td>\n",
       "      <td>7.843750</td>\n",
       "      <td>110.437500</td>\n",
       "    </tr>\n",
       "  </tbody>\n",
       "</table>\n",
       "</div>"
      ],
      "text/plain": [
       "       genre  production_budget  worldwide_gross        profit       ROI  \\\n",
       "11    Horror       1.759358e+07     6.651803e+07  4.892444e+07  6.466335   \n",
       "14   Mystery       2.414520e+07     8.696404e+07  6.281885e+07  6.148324   \n",
       "18  Thriller       3.132535e+07     1.071486e+08  7.582330e+07  4.338647   \n",
       "15   Romance       2.102584e+07     6.225014e+07  4.122430e+07  2.659392   \n",
       "17     Sport       2.647500e+07     8.757090e+07  6.109590e+07  2.578671   \n",
       "\n",
       "       month  runtime_minutes  \n",
       "11  6.505556        97.623596  \n",
       "14  6.585938       105.796875  \n",
       "18  6.716981       105.357414  \n",
       "15  6.532710       106.589623  \n",
       "17  7.843750       110.437500  "
      ]
     },
     "execution_count": 42,
     "metadata": {},
     "output_type": "execute_result"
    }
   ],
   "source": [
    "df_genre_grp.head()"
   ]
  },
  {
   "cell_type": "markdown",
   "metadata": {},
   "source": [
    "#### Production Budget and Worldwide Grossing by Genre "
   ]
  },
  {
   "cell_type": "code",
   "execution_count": 43,
   "metadata": {},
   "outputs": [
    {
     "data": {
      "image/png": "[encoded data removed]",
      "text/plain": [
       "<Figure size 720x432 with 1 Axes>"
      ]
     },
     "metadata": {},
     "output_type": "display_data"
    }
   ],
   "source": [
    "fig_bar3 = df_genre_grp.plot.bar(\n",
    "    x='genre', y=['production_budget', 'worldwide_gross'], figsize=(10,6), fontsize=14, legend=False, grid=False)\n",
    "plt.title('Production Budget and Worldwide Grossing by Genre', fontsize=20)\n",
    "plt.xlabel('Genre', fontsize=16)\n",
    "plt.ylabel('100 Million USD', fontsize=16)\n",
    "\n",
    "plt.legend([\"Production Budget (Average)\", \"Average of Worldwide Grossing (Average)\"], fontsize=12)\n",
    "\n",
    "plt.tight_layout()\n",
    "\n",
    "plt.savefig('Images/Bar_budget_gross_genre1.png', bbox_inches='tight');"
   ]
  },
  {
   "cell_type": "markdown",
   "metadata": {},
   "source": [
    "### 6. 2. Seasonality Analysis\n",
    "\n",
    "#### Findings:  \n",
    "Movies released in January, July, and October hold higher average ROIs than in other months.\n",
    "#### Recommendation:\n",
    "January, July, and October are the three best months to release a new movie. This roughly corresponse with holiday seasons.  \n"
   ]
  },
  {
   "cell_type": "markdown",
   "metadata": {},
   "source": [
    "#### ROI by Month"
   ]
  },
  {
   "cell_type": "code",
   "execution_count": 44,
   "metadata": {
    "scrolled": true
   },
   "outputs": [
    {
     "data": {
      "text/html": [
       "<div>\n",
       "<style scoped>\n",
       "    .dataframe tbody tr th:only-of-type {\n",
       "        vertical-align: middle;\n",
       "    }\n",
       "\n",
       "    .dataframe tbody tr th {\n",
       "        vertical-align: top;\n",
       "    }\n",
       "\n",
       "    .dataframe thead th {\n",
       "        text-align: right;\n",
       "    }\n",
       "</style>\n",
       "<table border=\"1\" class=\"dataframe\">\n",
       "  <thead>\n",
       "    <tr style=\"text-align: right;\">\n",
       "      <th></th>\n",
       "      <th>month_name</th>\n",
       "      <th>production_budget</th>\n",
       "      <th>worldwide_gross</th>\n",
       "      <th>profit</th>\n",
       "      <th>ROI</th>\n",
       "      <th>month</th>\n",
       "      <th>runtime_minutes</th>\n",
       "    </tr>\n",
       "  </thead>\n",
       "  <tbody>\n",
       "    <tr>\n",
       "      <th>4</th>\n",
       "      <td>January</td>\n",
       "      <td>2.973198e+07</td>\n",
       "      <td>7.813003e+07</td>\n",
       "      <td>4.839805e+07</td>\n",
       "      <td>3.564756</td>\n",
       "      <td>1</td>\n",
       "      <td>105.104762</td>\n",
       "    </tr>\n",
       "    <tr>\n",
       "      <th>3</th>\n",
       "      <td>February</td>\n",
       "      <td>4.089670e+07</td>\n",
       "      <td>1.232870e+08</td>\n",
       "      <td>8.239030e+07</td>\n",
       "      <td>2.554638</td>\n",
       "      <td>2</td>\n",
       "      <td>104.592593</td>\n",
       "    </tr>\n",
       "    <tr>\n",
       "      <th>7</th>\n",
       "      <td>March</td>\n",
       "      <td>4.859301e+07</td>\n",
       "      <td>1.367999e+08</td>\n",
       "      <td>8.820690e+07</td>\n",
       "      <td>1.840264</td>\n",
       "      <td>3</td>\n",
       "      <td>104.137931</td>\n",
       "    </tr>\n",
       "    <tr>\n",
       "      <th>0</th>\n",
       "      <td>April</td>\n",
       "      <td>2.893239e+07</td>\n",
       "      <td>9.735049e+07</td>\n",
       "      <td>6.841810e+07</td>\n",
       "      <td>2.484015</td>\n",
       "      <td>4</td>\n",
       "      <td>104.481752</td>\n",
       "    </tr>\n",
       "    <tr>\n",
       "      <th>8</th>\n",
       "      <td>May</td>\n",
       "      <td>6.803720e+07</td>\n",
       "      <td>2.067059e+08</td>\n",
       "      <td>1.386687e+08</td>\n",
       "      <td>2.175671</td>\n",
       "      <td>5</td>\n",
       "      <td>107.705357</td>\n",
       "    </tr>\n",
       "  </tbody>\n",
       "</table>\n",
       "</div>"
      ],
      "text/plain": [
       "  month_name  production_budget  worldwide_gross        profit       ROI  \\\n",
       "4    January       2.973198e+07     7.813003e+07  4.839805e+07  3.564756   \n",
       "3   February       4.089670e+07     1.232870e+08  8.239030e+07  2.554638   \n",
       "7      March       4.859301e+07     1.367999e+08  8.820690e+07  1.840264   \n",
       "0      April       2.893239e+07     9.735049e+07  6.841810e+07  2.484015   \n",
       "8        May       6.803720e+07     2.067059e+08  1.386687e+08  2.175671   \n",
       "\n",
       "   month  runtime_minutes  \n",
       "4      1       105.104762  \n",
       "3      2       104.592593  \n",
       "7      3       104.137931  \n",
       "0      4       104.481752  \n",
       "8      5       107.705357  "
      ]
     },
     "execution_count": 44,
     "metadata": {},
     "output_type": "execute_result"
    }
   ],
   "source": [
    "df_month = df_merge_final.groupby(by='month_name').mean().reset_index()\n",
    "df_month.sort_values(by='month', inplace=True)\n",
    "df_month.head()"
   ]
  },
  {
   "cell_type": "code",
   "execution_count": 45,
   "metadata": {},
   "outputs": [
    {
     "data": {
      "image/png": "[encoded data removed]",
      "text/plain": [
       "<Figure size 720x432 with 1 Axes>"
      ]
     },
     "metadata": {},
     "output_type": "display_data"
    }
   ],
   "source": [
    "fig_month, ax = plt.subplots(figsize=(10, 6))\n",
    "\n",
    "plt.bar(df_month['month_name'], df_month['ROI'])\n",
    "ax.grid(False)\n",
    "plt.title('Seasonality')\n",
    "plt.xlabel('Month')\n",
    "plt.ylabel('Average ROI')\n",
    "plt.xticks(rotation=90)\n",
    "plt.savefig('Images/seasonality_final.png', bbox_inches='tight');"
   ]
  },
  {
   "cell_type": "markdown",
   "metadata": {},
   "source": [
    "### 6. 3. Director Analysis\n",
    "\n",
    "#### Findings:  \n",
    "We find the top 20 directors in the horror genre based on average return on investment. \n",
    "#### Recommendation:\n",
    "We would recommend in a new movie studio venturing in the horror genre to attempt to acquire one of these top 20 directors. This would have the best potential on return on your investment"
   ]
  },
  {
   "cell_type": "markdown",
   "metadata": {},
   "source": [
    "#### Cleaning up directors"
   ]
  },
  {
   "cell_type": "code",
   "execution_count": 46,
   "metadata": {
    "scrolled": true
   },
   "outputs": [
    {
     "data": {
      "text/html": [
       "<div>\n",
       "<style scoped>\n",
       "    .dataframe tbody tr th:only-of-type {\n",
       "        vertical-align: middle;\n",
       "    }\n",
       "\n",
       "    .dataframe tbody tr th {\n",
       "        vertical-align: top;\n",
       "    }\n",
       "\n",
       "    .dataframe thead th {\n",
       "        text-align: right;\n",
       "    }\n",
       "</style>\n",
       "<table border=\"1\" class=\"dataframe\">\n",
       "  <thead>\n",
       "    <tr style=\"text-align: right;\">\n",
       "      <th></th>\n",
       "      <th>director_name</th>\n",
       "      <th>production_budget</th>\n",
       "      <th>worldwide_gross</th>\n",
       "      <th>profit</th>\n",
       "      <th>ROI</th>\n",
       "      <th>month</th>\n",
       "      <th>runtime_minutes</th>\n",
       "    </tr>\n",
       "  </thead>\n",
       "  <tbody>\n",
       "    <tr>\n",
       "      <th>72</th>\n",
       "      <td>Joaquin Perea</td>\n",
       "      <td>1.000000e+06</td>\n",
       "      <td>1.017595e+08</td>\n",
       "      <td>100759490.0</td>\n",
       "      <td>100.759490</td>\n",
       "      <td>1.000000</td>\n",
       "      <td>NaN</td>\n",
       "    </tr>\n",
       "    <tr>\n",
       "      <th>95</th>\n",
       "      <td>Levan Gabriadze</td>\n",
       "      <td>1.000000e+06</td>\n",
       "      <td>6.436420e+07</td>\n",
       "      <td>63364198.0</td>\n",
       "      <td>63.364198</td>\n",
       "      <td>4.000000</td>\n",
       "      <td>83.000000</td>\n",
       "    </tr>\n",
       "    <tr>\n",
       "      <th>156</th>\n",
       "      <td>Tod Williams</td>\n",
       "      <td>3.000000e+06</td>\n",
       "      <td>1.775120e+08</td>\n",
       "      <td>174512032.0</td>\n",
       "      <td>58.170677</td>\n",
       "      <td>10.000000</td>\n",
       "      <td>91.000000</td>\n",
       "    </tr>\n",
       "    <tr>\n",
       "      <th>84</th>\n",
       "      <td>Jordan Peele</td>\n",
       "      <td>5.000000e+06</td>\n",
       "      <td>2.553680e+08</td>\n",
       "      <td>250367951.0</td>\n",
       "      <td>50.073590</td>\n",
       "      <td>2.000000</td>\n",
       "      <td>104.000000</td>\n",
       "    </tr>\n",
       "    <tr>\n",
       "      <th>16</th>\n",
       "      <td>Bradley Parker</td>\n",
       "      <td>1.000000e+06</td>\n",
       "      <td>4.241172e+07</td>\n",
       "      <td>41411721.0</td>\n",
       "      <td>41.411721</td>\n",
       "      <td>5.000000</td>\n",
       "      <td>86.000000</td>\n",
       "    </tr>\n",
       "    <tr>\n",
       "      <th>63</th>\n",
       "      <td>James Wan</td>\n",
       "      <td>1.075000e+07</td>\n",
       "      <td>2.089355e+08</td>\n",
       "      <td>198185513.5</td>\n",
       "      <td>40.240299</td>\n",
       "      <td>5.500000</td>\n",
       "      <td>107.500000</td>\n",
       "    </tr>\n",
       "    <tr>\n",
       "      <th>11</th>\n",
       "      <td>Ariel Schulman</td>\n",
       "      <td>5.000000e+06</td>\n",
       "      <td>1.749289e+08</td>\n",
       "      <td>169928918.0</td>\n",
       "      <td>33.985784</td>\n",
       "      <td>10.000000</td>\n",
       "      <td>85.500000</td>\n",
       "    </tr>\n",
       "    <tr>\n",
       "      <th>59</th>\n",
       "      <td>Henry Joost</td>\n",
       "      <td>5.000000e+06</td>\n",
       "      <td>1.749289e+08</td>\n",
       "      <td>169928918.0</td>\n",
       "      <td>33.985784</td>\n",
       "      <td>10.000000</td>\n",
       "      <td>85.500000</td>\n",
       "    </tr>\n",
       "    <tr>\n",
       "      <th>130</th>\n",
       "      <td>Robert Heath</td>\n",
       "      <td>3.500000e+06</td>\n",
       "      <td>9.512734e+07</td>\n",
       "      <td>91627344.0</td>\n",
       "      <td>26.179241</td>\n",
       "      <td>4.000000</td>\n",
       "      <td>96.000000</td>\n",
       "    </tr>\n",
       "    <tr>\n",
       "      <th>33</th>\n",
       "      <td>David Gordon Green</td>\n",
       "      <td>1.000000e+07</td>\n",
       "      <td>2.549007e+08</td>\n",
       "      <td>244900667.0</td>\n",
       "      <td>24.490067</td>\n",
       "      <td>10.000000</td>\n",
       "      <td>106.000000</td>\n",
       "    </tr>\n",
       "    <tr>\n",
       "      <th>29</th>\n",
       "      <td>Dan Trachtenberg</td>\n",
       "      <td>5.000000e+06</td>\n",
       "      <td>1.082864e+08</td>\n",
       "      <td>103286422.0</td>\n",
       "      <td>20.657284</td>\n",
       "      <td>3.000000</td>\n",
       "      <td>103.000000</td>\n",
       "    </tr>\n",
       "    <tr>\n",
       "      <th>78</th>\n",
       "      <td>John R. Leonetti</td>\n",
       "      <td>9.250000e+06</td>\n",
       "      <td>1.401701e+08</td>\n",
       "      <td>130920132.5</td>\n",
       "      <td>19.736909</td>\n",
       "      <td>8.500000</td>\n",
       "      <td>94.500000</td>\n",
       "    </tr>\n",
       "    <tr>\n",
       "      <th>148</th>\n",
       "      <td>Stiles White</td>\n",
       "      <td>5.000000e+06</td>\n",
       "      <td>1.033006e+08</td>\n",
       "      <td>98300632.0</td>\n",
       "      <td>19.660126</td>\n",
       "      <td>10.000000</td>\n",
       "      <td>89.000000</td>\n",
       "    </tr>\n",
       "    <tr>\n",
       "      <th>31</th>\n",
       "      <td>David F. Sandberg</td>\n",
       "      <td>1.500000e+07</td>\n",
       "      <td>3.053849e+08</td>\n",
       "      <td>290384865.0</td>\n",
       "      <td>19.358991</td>\n",
       "      <td>8.000000</td>\n",
       "      <td>109.000000</td>\n",
       "    </tr>\n",
       "    <tr>\n",
       "      <th>9</th>\n",
       "      <td>Andy Muschietti</td>\n",
       "      <td>3.500000e+07</td>\n",
       "      <td>6.974580e+08</td>\n",
       "      <td>662457969.0</td>\n",
       "      <td>18.927371</td>\n",
       "      <td>9.000000</td>\n",
       "      <td>135.000000</td>\n",
       "    </tr>\n",
       "    <tr>\n",
       "      <th>101</th>\n",
       "      <td>Marcus Nispel</td>\n",
       "      <td>2.500000e+04</td>\n",
       "      <td>4.897920e+05</td>\n",
       "      <td>464792.0</td>\n",
       "      <td>18.591680</td>\n",
       "      <td>9.000000</td>\n",
       "      <td>91.000000</td>\n",
       "    </tr>\n",
       "    <tr>\n",
       "      <th>30</th>\n",
       "      <td>Daniel Stamm</td>\n",
       "      <td>2.900000e+06</td>\n",
       "      <td>3.510673e+07</td>\n",
       "      <td>32206726.0</td>\n",
       "      <td>18.496472</td>\n",
       "      <td>6.000000</td>\n",
       "      <td>90.000000</td>\n",
       "    </tr>\n",
       "    <tr>\n",
       "      <th>62</th>\n",
       "      <td>James DeMonaco</td>\n",
       "      <td>7.333333e+06</td>\n",
       "      <td>1.071054e+08</td>\n",
       "      <td>99772063.0</td>\n",
       "      <td>17.222144</td>\n",
       "      <td>6.666667</td>\n",
       "      <td>98.666667</td>\n",
       "    </tr>\n",
       "    <tr>\n",
       "      <th>0</th>\n",
       "      <td>Adam Robitel</td>\n",
       "      <td>1.000000e+07</td>\n",
       "      <td>1.678856e+08</td>\n",
       "      <td>157885588.0</td>\n",
       "      <td>15.788559</td>\n",
       "      <td>1.000000</td>\n",
       "      <td>103.000000</td>\n",
       "    </tr>\n",
       "    <tr>\n",
       "      <th>144</th>\n",
       "      <td>Stephen Susco</td>\n",
       "      <td>1.000000e+06</td>\n",
       "      <td>1.643459e+07</td>\n",
       "      <td>15434588.0</td>\n",
       "      <td>15.434588</td>\n",
       "      <td>7.000000</td>\n",
       "      <td>92.000000</td>\n",
       "    </tr>\n",
       "  </tbody>\n",
       "</table>\n",
       "</div>"
      ],
      "text/plain": [
       "          director_name  production_budget  worldwide_gross       profit  \\\n",
       "72        Joaquin Perea       1.000000e+06     1.017595e+08  100759490.0   \n",
       "95      Levan Gabriadze       1.000000e+06     6.436420e+07   63364198.0   \n",
       "156        Tod Williams       3.000000e+06     1.775120e+08  174512032.0   \n",
       "84         Jordan Peele       5.000000e+06     2.553680e+08  250367951.0   \n",
       "16       Bradley Parker       1.000000e+06     4.241172e+07   41411721.0   \n",
       "63            James Wan       1.075000e+07     2.089355e+08  198185513.5   \n",
       "11       Ariel Schulman       5.000000e+06     1.749289e+08  169928918.0   \n",
       "59          Henry Joost       5.000000e+06     1.749289e+08  169928918.0   \n",
       "130        Robert Heath       3.500000e+06     9.512734e+07   91627344.0   \n",
       "33   David Gordon Green       1.000000e+07     2.549007e+08  244900667.0   \n",
       "29     Dan Trachtenberg       5.000000e+06     1.082864e+08  103286422.0   \n",
       "78     John R. Leonetti       9.250000e+06     1.401701e+08  130920132.5   \n",
       "148        Stiles White       5.000000e+06     1.033006e+08   98300632.0   \n",
       "31    David F. Sandberg       1.500000e+07     3.053849e+08  290384865.0   \n",
       "9       Andy Muschietti       3.500000e+07     6.974580e+08  662457969.0   \n",
       "101       Marcus Nispel       2.500000e+04     4.897920e+05     464792.0   \n",
       "30         Daniel Stamm       2.900000e+06     3.510673e+07   32206726.0   \n",
       "62       James DeMonaco       7.333333e+06     1.071054e+08   99772063.0   \n",
       "0          Adam Robitel       1.000000e+07     1.678856e+08  157885588.0   \n",
       "144       Stephen Susco       1.000000e+06     1.643459e+07   15434588.0   \n",
       "\n",
       "            ROI      month  runtime_minutes  \n",
       "72   100.759490   1.000000              NaN  \n",
       "95    63.364198   4.000000        83.000000  \n",
       "156   58.170677  10.000000        91.000000  \n",
       "84    50.073590   2.000000       104.000000  \n",
       "16    41.411721   5.000000        86.000000  \n",
       "63    40.240299   5.500000       107.500000  \n",
       "11    33.985784  10.000000        85.500000  \n",
       "59    33.985784  10.000000        85.500000  \n",
       "130   26.179241   4.000000        96.000000  \n",
       "33    24.490067  10.000000       106.000000  \n",
       "29    20.657284   3.000000       103.000000  \n",
       "78    19.736909   8.500000        94.500000  \n",
       "148   19.660126  10.000000        89.000000  \n",
       "31    19.358991   8.000000       109.000000  \n",
       "9     18.927371   9.000000       135.000000  \n",
       "101   18.591680   9.000000        91.000000  \n",
       "30    18.496472   6.000000        90.000000  \n",
       "62    17.222144   6.666667        98.666667  \n",
       "0     15.788559   1.000000       103.000000  \n",
       "144   15.434588   7.000000        92.000000  "
      ]
     },
     "execution_count": 46,
     "metadata": {},
     "output_type": "execute_result"
    }
   ],
   "source": [
    "# Creating a new dataframe that pulls out director names and genres (including multiple directors, and multiple genres)\n",
    "df_directors = df_merge_final.explode('director_name').explode('genre')\n",
    "\n",
    "# Filter new dataframe to only show horror movie directors\n",
    "# Then groupby director and sum the other columns (to provide total profit)\n",
    "df_directors = df_directors[df_directors['genre'] == 'Horror'].groupby(by='director_name').mean().reset_index()\n",
    "\n",
    "# Sort values by total profit per director\n",
    "df_directors.sort_values(by = 'ROI', inplace=True, ascending = False)\n",
    "\n",
    "# Creating new dataframe to show only the top 20 horror movie directors based on total profit\n",
    "df_directors_top = df_directors.head(20)\n",
    "df_directors_top"
   ]
  },
  {
   "cell_type": "markdown",
   "metadata": {},
   "source": [
    "#### Top 20 Directors in the Horror Genre Based on ROI"
   ]
  },
  {
   "cell_type": "code",
   "execution_count": 58,
   "metadata": {
    "scrolled": false
   },
   "outputs": [
    {
     "data": {
      "text/plain": [
       "''"
      ]
     },
     "execution_count": 58,
     "metadata": {},
     "output_type": "execute_result"
    },
    {
     "data": {
      "image/png": "[encoded data removed]",
      "text/plain": [
       "<Figure size 720x432 with 1 Axes>"
      ]
     },
     "metadata": {},
     "output_type": "display_data"
    }
   ],
   "source": [
    "# Visualation of the top 20 horror movie directors from 2010-2021\n",
    "fig_dir, ax = plt.subplots(figsize=(10,6))\n",
    "sns.set_style(\"dark\")\n",
    "\n",
    "plt.barh(df_directors_top['director_name'], df_directors_top['ROI'], )\n",
    "plt.title('Top 20 Horror Directors from 2010-2021')\n",
    "plt.xlabel('Average RIO')\n",
    "plt.ylabel('Directors')\n",
    "plt.savefig('Images/directors_final.png', bbox_inches = 'tight')\n",
    ";"
   ]
  },
  {
   "cell_type": "markdown",
   "metadata": {},
   "source": [
    "#### Top 20 Directors in the Horror Genre Based on Worldwide Gross"
   ]
  },
  {
   "cell_type": "code",
   "execution_count": 54,
   "metadata": {
    "scrolled": true
   },
   "outputs": [
    {
     "data": {
      "image/png": "[encoded data removed]",
      "text/plain": [
       "<Figure size 720x432 with 1 Axes>"
      ]
     },
     "metadata": {},
     "output_type": "display_data"
    }
   ],
   "source": [
    "df_directors_top.plot.barh(x='director_name', y='worldwide_gross', \n",
    "                           figsize=(10,6), fontsize=12,  grid=False)\n",
    "plt.title('Worldwide Gross from 2010-2021')\n",
    "plt.xlabel('Worldwide Gross (by billions)')\n",
    "plt.ylabel('Director');"
   ]
  },
  {
   "cell_type": "markdown",
   "metadata": {},
   "source": [
    "## 7. Conclusions and Next Steps\n",
    "\n",
    "Our analysis on ROI suggests that for a higher return, (1) make a horror/mistery film, (2) release in January, July, or October, (3) and seek the top director on the list.  \n",
    "We find that horror/mistery movies are often made on a low budget, yet the gross is relatively high. Release data should be adjusted for people’s vacation seasons. Lastly, a list of top 20 directors in the horror genre shows the names, which guarantee higher profit. \n",
    " \n",
    "\n",
    "One caveat of our ROI analysis is that a high return on investment is not always equal to how much cash in hand. \n",
    "For the size of the profit, movies with large production budgets often hit the recode high grossing. \n",
    "Microsoft is not a small corporation with limited production budgets, and their interest could be more in having a larger net profit. \n",
    "Thus, for the next step, we will include the size of net profit as our second indicator. \n",
    "Additionally, revenue from streaming original movies in their own contents is important income from making original movies. \n",
    "So, for the future analysis, we will expand our analysis in that direction."
   ]
  },
  {
   "cell_type": "code",
   "execution_count": null,
   "metadata": {},
   "outputs": [],
   "source": []
  }
 ],
 "metadata": {
  "kernelspec": {
   "display_name": "Python 3",
   "language": "python",
   "name": "python3"
  },
  "language_info": {
   "codemirror_mode": {
    "name": "ipython",
    "version": 3
   },
   "file_extension": ".py",
   "mimetype": "text/x-python",
   "name": "python",
   "nbconvert_exporter": "python",
   "pygments_lexer": "ipython3",
   "version": "3.8.5"
  }
 },
 "nbformat": 4,
 "nbformat_minor": 4
}
